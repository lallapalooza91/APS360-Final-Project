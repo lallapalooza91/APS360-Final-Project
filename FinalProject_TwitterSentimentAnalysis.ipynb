{
  "cells": [
    {
      "cell_type": "markdown",
      "metadata": {
        "id": "view-in-github",
        "colab_type": "text"
      },
      "source": [
        "<a href=\"https://colab.research.google.com/github/lallapalooza91/APS360-Final-Project/blob/main/APS360_Project_Twitter_Sentiment_Analysis.ipynb\" target=\"_parent\"><img src=\"https://colab.research.google.com/assets/colab-badge.svg\" alt=\"Open In Colab\"/></a>"
      ]
    },
    {
      "cell_type": "markdown",
      "metadata": {
        "id": "IL_ZtwPShJsQ"
      },
      "source": [
        "The following code defines an LSTM model used to accomplish Twitter Sentiment Analysis.\n",
        "\n"
      ]
    },
    {
      "cell_type": "code",
      "execution_count": null,
      "metadata": {
        "id": "6Jh_LgbIhiP2"
      },
      "outputs": [],
      "source": [
        "import csv\n",
        "import torch\n",
        "import torch.nn as nn\n",
        "import torch.nn.functional as F\n",
        "import torch.optim as optim\n",
        "import numpy as np\n",
        "import matplotlib.pyplot as plt\n",
        "import pandas as pd\n",
        "import time"
      ]
    },
    {
      "cell_type": "code",
      "source": [
        "from google.colab import drive\n",
        "drive.mount('/content/drive')"
      ],
      "metadata": {
        "colab": {
          "base_uri": "https://localhost:8080/"
        },
        "id": "aiKHJ-Cjzeek",
        "outputId": "01759187-413d-4bba-e882-a174e952a71f"
      },
      "execution_count": null,
      "outputs": [
        {
          "output_type": "stream",
          "name": "stdout",
          "text": [
            "Mounted at /content/drive\n"
          ]
        }
      ]
    },
    {
      "cell_type": "code",
      "execution_count": null,
      "metadata": {
        "id": "Uo3HNELbnwtp"
      },
      "outputs": [],
      "source": [
        "device = torch.device(\"cuda\")\n",
        "use_cuda = True"
      ]
    },
    {
      "cell_type": "code",
      "execution_count": null,
      "metadata": {
        "id": "WITOm-Wzi_Y8"
      },
      "outputs": [],
      "source": [
        "if torch.cuda.is_available():\n",
        "    device = torch.device(\"cuda\")\n",
        "else:\n",
        "    device = torch.device(\"cpu\")"
      ]
    },
    {
      "cell_type": "code",
      "execution_count": null,
      "metadata": {
        "id": "-f0ZXIr9kEXD"
      },
      "outputs": [],
      "source": [
        "# downloading GloVe embeddings\n",
        "import torchtext\n",
        "glove_tweet_50 = torchtext.vocab.GloVe(name=\"twitter.27B\", # trained on Wikipedia 2014 corpus\n",
        "                              dim=50)   # embedding size = 50\n",
        "\n",
        "glove_tweet_100 = torchtext.vocab.GloVe(name=\"twitter.27B\", # trained on Wikipedia 2014 corpus\n",
        "                              dim=100)   # embedding size = 100\n",
        "\n",
        "glove_tweet_200 = torchtext.vocab.GloVe(name=\"twitter.27B\", # trained on Wikipedia 2014 corpus\n",
        "                              dim=200)   # embedding size = 200\n",
        "glove_840B = torchtext.vocab.GloVe(name=\"840B\", # trained on Wikipedia 2014 corpus\n",
        "                              dim=300)   # embedding size = 300"
      ]
    },
    {
      "cell_type": "code",
      "execution_count": null,
      "metadata": {
        "colab": {
          "base_uri": "https://localhost:8080/"
        },
        "id": "uYs5Bb2hp1Gn",
        "outputId": "0a5e47da-1f24-456d-f15d-c24eac44ebe0"
      },
      "outputs": [
        {
          "output_type": "stream",
          "name": "stdout",
          "text": [
            "Mounted at /content/drive\n"
          ]
        }
      ],
      "source": [
        "#setup Google Drive\n",
        "from google.colab import drive\n",
        "drive.mount('/content/drive')"
      ]
    },
    {
      "cell_type": "code",
      "execution_count": null,
      "metadata": {
        "id": "VWw3SXtUqVDw",
        "colab": {
          "base_uri": "https://localhost:8080/"
        },
        "outputId": "5ec9d500-eb1f-4e56-d058-648ce08d0c2a"
      },
      "outputs": [
        {
          "output_type": "stream",
          "name": "stdout",
          "text": [
            "{0: 'negative', 1: 'neutral', 2: 'positive'} \n",
            "\n",
            "                                                    text  sentiment\n",
            "0                    I`d have responded, if I were going          1\n",
            "1          Sooo SAD I will miss you here in San Diego!!!          0\n",
            "2                              my boss is bullying me...          0\n",
            "3                         what interview! leave me alone          0\n",
            "4       Sons of ****, why couldn`t they put them on t...          0\n",
            "...                                                  ...        ...\n",
            "27475   wish we could come see u on Denver  husband l...          0\n",
            "27476   I`ve wondered about rake to.  The client has ...          0\n",
            "27477   Yay good for both of you. Enjoy the break - y...          2\n",
            "27478                         But it was worth it  ****.          2\n",
            "27479     All this flirting going on - The ATG smiles...          1\n",
            "\n",
            "[27480 rows x 2 columns]\n"
          ]
        }
      ],
      "source": [
        "#  code for data processing\n",
        "# dataset 1\n",
        "input_file = '/content/drive/My Drive/Tweets.csv'\n",
        "df = pd.read_csv(input_file)\n",
        "\n",
        "df = df.drop([df.columns[0],df.columns[2]], axis=1)\n",
        "\n",
        "# drops null values\n",
        "if (df.isnull().values.any()):\n",
        "  df = df.dropna()\n",
        "\n",
        "# drops duplicated data\n",
        "if (df.duplicated().sum()):\n",
        "  df = df.drop_duplicates()\n",
        "\n",
        "df = df.reset_index(drop = True)\n",
        "\n",
        "df['sentiment'] = df['sentiment'].astype('category')\n",
        "idx_to_cat = dict(enumerate(df['sentiment'].cat.categories))\n",
        "print(idx_to_cat, \"\\n\")\n",
        "cat_columns = df.select_dtypes(['category']).columns\n",
        "df[cat_columns] = df[cat_columns].apply(lambda x: x.cat.codes)\n",
        "print(df)"
      ]
    },
    {
      "cell_type": "code",
      "source": [
        "# dataset 2\n",
        "input_file_2 = '/content/drive/MyDrive/twitter_training.csv'\n",
        "df2 = pd.read_csv(input_file_2)\n",
        "\n",
        "df2 = df2.drop([df2.columns[0], df2.columns[1]], axis=1)\n",
        "\n",
        "df2.columns = ['sentiment', 'text']\n",
        "\n",
        "cols = df2.columns.tolist()\n",
        "cols = cols[-1:] + cols[:-1]\n",
        "df2 = df2[cols]\n",
        "\n",
        "# drops null values\n",
        "if (df2.isnull().values.any()):\n",
        "  df2 = df2.dropna()\n",
        "\n",
        "# drops duplicated data\n",
        "if (df2.duplicated().sum()):\n",
        "  df2 = df2.drop_duplicates()\n",
        "\n",
        "# drop irrelevant rows\n",
        "df2.drop(df2[df2['sentiment'] == 'Irrelevant'].index, inplace = True)\n",
        "\n",
        "df2 = df2.reset_index(drop = True)\n",
        "\n",
        "df2['sentiment'] = df2['sentiment'].astype('category')\n",
        "idx_to_cat = dict(enumerate(df2['sentiment'].cat.categories))\n",
        "print(idx_to_cat, \"\\n\")\n",
        "cat_columns = df2.select_dtypes(['category']).columns\n",
        "df2[cat_columns] = df2[cat_columns].apply(lambda x: x.cat.codes)\n",
        "print(df2)"
      ],
      "metadata": {
        "id": "4JiQknOllF9A",
        "colab": {
          "base_uri": "https://localhost:8080/"
        },
        "outputId": "7b01bdcd-9fb0-4e26-b6fc-3eec038a6c76"
      },
      "execution_count": null,
      "outputs": [
        {
          "output_type": "stream",
          "name": "stdout",
          "text": [
            "{0: 'Negative', 1: 'Neutral', 2: 'Positive'} \n",
            "\n",
            "                                                    text  sentiment\n",
            "0      I am coming to the borders and I will kill you...          2\n",
            "1      im getting on borderlands and i will kill you ...          2\n",
            "2      im coming on borderlands and i will murder you...          2\n",
            "3      im getting on borderlands 2 and i will murder ...          2\n",
            "4      im getting into borderlands and i can murder y...          2\n",
            "...                                                  ...        ...\n",
            "57479  Just realized that the Windows partition of my...          2\n",
            "57480  Just realized that my Mac window partition is ...          2\n",
            "57481  Just realized the windows partition of my Mac ...          2\n",
            "57482  Just realized between the windows partition of...          2\n",
            "57483  Just like the windows partition of my Mac is l...          2\n",
            "\n",
            "[57484 rows x 2 columns]\n"
          ]
        },
        {
          "output_type": "stream",
          "name": "stderr",
          "text": [
            "<ipython-input-7-0afe6587dc4f>:21: SettingWithCopyWarning: \n",
            "A value is trying to be set on a copy of a slice from a DataFrame\n",
            "\n",
            "See the caveats in the documentation: https://pandas.pydata.org/pandas-docs/stable/user_guide/indexing.html#returning-a-view-versus-a-copy\n",
            "  df2.drop(df2[df2['sentiment'] == 'Irrelevant'].index, inplace = True)\n"
          ]
        }
      ]
    },
    {
      "cell_type": "code",
      "source": [
        "# dataset 3\n",
        "input_file3 = '/content/drive/MyDrive/BTC_tweets_daily_example.csv'\n",
        "df3 = pd.read_csv(input_file3)\n",
        "\n",
        "df3 = df3.drop([df3.columns[0], df3.columns[1], df3.columns[3], df3.columns[4], df3.columns[5], df3.columns[7], df3.columns[8], df3.columns[9]], axis=1)\n",
        "\n",
        "df3.columns = ['text', 'sentiment']\n",
        "\n",
        "# drops null values\n",
        "if (df3.isnull().values.any()):\n",
        "  df3 = df3.dropna()\n",
        "\n",
        "# drops duplicated data\n",
        "if (df3.duplicated().sum()):\n",
        "  df3 = df3.drop_duplicates()\n",
        "\n",
        "df3 = df3.reset_index(drop = True)\n",
        "\n",
        "# drop irrelevant rows\n",
        "df3.drop(df3[df3['sentiment'] == '0.0'].index, inplace = True)\n",
        "\n",
        "df3['sentiment'] = df3['sentiment'].astype('category')\n",
        "idx_to_cat = dict(enumerate(df3['sentiment'].cat.categories))\n",
        "print(idx_to_cat, \"\\n\")\n",
        "cat_columns = df3.select_dtypes(['category']).columns\n",
        "df3[cat_columns] = df3[cat_columns].apply(lambda x: x.cat.codes)\n",
        "\n",
        "print(df3)"
      ],
      "metadata": {
        "id": "Hi-gWNVslKaD",
        "colab": {
          "base_uri": "https://localhost:8080/"
        },
        "outputId": "f674459f-9a4e-44ba-9366-615b31483190"
      },
      "execution_count": null,
      "outputs": [
        {
          "output_type": "stream",
          "name": "stdout",
          "text": [
            "{0: \"['negative']\", 1: \"['neutral']\", 2: \"['positive']\"} \n",
            "\n",
            "                                                    text  sentiment\n",
            "0      RT @ALXTOKEN: Paul Krugman, Nobel Luddite. I h...          1\n",
            "1      @lopp @_Kevin_Pham @psycho_sage @naval But @Pr...          1\n",
            "2      RT @tippereconomy: Another use case for #block...          2\n",
            "3                     free coins https://t.co/DiuoePJdap          2\n",
            "4      RT @payvxofficial: WE are happy to announce th...          2\n",
            "...                                                  ...        ...\n",
            "28131  #Zhao #Dong #Recounts How He Lost 9,000 #BTC h...          1\n",
            "28132  RT @LisaLisaTokyo: Maaan, BiTCh is a bitch,\\nI...          2\n",
            "28133  Bitcoin Price Technical Analysis for 03/23/201...          1\n",
            "28134  I added a video to a @YouTube playlist https:/...          2\n",
            "28135  RT @Raybambs: Airdrop PhotoCoin Airdrop Round#...          2\n",
            "\n",
            "[28135 rows x 2 columns]\n"
          ]
        }
      ]
    },
    {
      "cell_type": "code",
      "source": [
        "# dataset 4\n",
        "input_file4 = '/content/drive/MyDrive/train.csv'\n",
        "df4 = pd.read_csv(input_file4, encoding = 'iso-8859-1')\n",
        "\n",
        "df4 = df4.drop([df4.columns[0],df4.columns[2],\n",
        "                df4.columns[4],df4.columns[5],\n",
        "                df4.columns[6],df4.columns[7],\n",
        "                df4.columns[8],df4.columns[9]],\n",
        "                axis=1)\n",
        "\n",
        "\n",
        "df4.columns = ['text', 'sentiment']\n",
        "\n",
        "\n",
        "# drops null values\n",
        "if (df4.isnull().values.any()):\n",
        "  df4 = df4.dropna()\n",
        "\n",
        "# drops duplicated data\n",
        "if (df4.duplicated().sum()):\n",
        "  df4 = df4.drop_duplicates()\n",
        "\n",
        "df4 = df4.reset_index(drop = True)\n",
        "\n",
        "# drop irrelevant rows\n",
        "df4.drop(df4[df4['sentiment'] == '0.0'].index, inplace = True)\n",
        "\n",
        "df4['sentiment'] = df4['sentiment'].astype('category')\n",
        "idx_to_cat = dict(enumerate(df4['sentiment'].cat.categories))\n",
        "print(idx_to_cat, \"\\n\")\n",
        "\n",
        "cat_columns = df4.select_dtypes(['category']).columns\n",
        "df4[cat_columns] = df4[cat_columns].apply(lambda x: x.cat.codes)\n",
        "\n",
        "print(df4)"
      ],
      "metadata": {
        "id": "PfvbRJFZ-Dig",
        "colab": {
          "base_uri": "https://localhost:8080/"
        },
        "outputId": "56697e31-a712-4f2f-8c4f-5592e20ff5aa"
      },
      "execution_count": null,
      "outputs": [
        {
          "output_type": "stream",
          "name": "stdout",
          "text": [
            "{0: 'negative', 1: 'neutral', 2: 'positive'} \n",
            "\n",
            "                                                    text  sentiment\n",
            "0                    I`d have responded, if I were going          1\n",
            "1          Sooo SAD I will miss you here in San Diego!!!          0\n",
            "2                              my boss is bullying me...          0\n",
            "3                         what interview! leave me alone          0\n",
            "4       Sons of ****, why couldn`t they put them on t...          0\n",
            "...                                                  ...        ...\n",
            "27475   wish we could come see u on Denver  husband l...          0\n",
            "27476   I`ve wondered about rake to.  The client has ...          0\n",
            "27477   Yay good for both of you. Enjoy the break - y...          2\n",
            "27478                         But it was worth it  ****.          2\n",
            "27479     All this flirting going on - The ATG smiles...          1\n",
            "\n",
            "[27480 rows x 2 columns]\n"
          ]
        }
      ]
    },
    {
      "cell_type": "code",
      "source": [
        "# dataset 5\n",
        "input_file5 = '/content/drive/MyDrive/test.csv'\n",
        "df5 = pd.read_csv(input_file5, encoding = 'iso-8859-1')\n",
        "\n",
        "df5 = df5.drop([df5.columns[0],df5.columns[3],\n",
        "                df5.columns[4],df5.columns[5],\n",
        "                df5.columns[6],df5.columns[7],\n",
        "                df5.columns[8]],\n",
        "                axis=1)\n",
        "\n",
        "\n",
        "df5.columns = ['text', 'sentiment']\n",
        "\n",
        "\n",
        "# drops null values\n",
        "if (df5.isnull().values.any()):\n",
        "  df5 = df5.dropna()\n",
        "\n",
        "# drops duplicated data\n",
        "if (df5.duplicated().sum()):\n",
        "  df5 = df5.drop_duplicates()\n",
        "\n",
        "df5 = df5.reset_index(drop = True)\n",
        "\n",
        "# drop irrelevant rows\n",
        "df5.drop(df5[df5['sentiment'] == '0.0'].index, inplace = True)\n",
        "\n",
        "df5['sentiment'] = df5['sentiment'].astype('category')\n",
        "idx_to_cat = dict(enumerate(df5['sentiment'].cat.categories))\n",
        "print(idx_to_cat, \"\\n\")\n",
        "\n",
        "cat_columns = df5.select_dtypes(['category']).columns\n",
        "df5[cat_columns] = df5[cat_columns].apply(lambda x: x.cat.codes)\n",
        "\n",
        "print(df5)"
      ],
      "metadata": {
        "colab": {
          "base_uri": "https://localhost:8080/"
        },
        "id": "nY8Vum_Jj4dk",
        "outputId": "88977384-a5df-4daa-b005-1fbad9c3adb4"
      },
      "execution_count": null,
      "outputs": [
        {
          "output_type": "stream",
          "name": "stdout",
          "text": [
            "{0: 'negative', 1: 'neutral', 2: 'positive'} \n",
            "\n",
            "                                                   text  sentiment\n",
            "0     Last session of the day  http://twitpic.com/67ezh          1\n",
            "1      Shanghai is also really exciting (precisely -...          2\n",
            "2     Recession hit Veronique Branquinho, she has to...          0\n",
            "3                                           happy bday!          2\n",
            "4                http://twitpic.com/4w75p - I like it!!          2\n",
            "...                                                 ...        ...\n",
            "3529  its at 3 am, im very tired but i can`t sleep  ...          0\n",
            "3530  All alone in this old house again.  Thanks for...          2\n",
            "3531   I know what you mean. My little dog is sinkin...          0\n",
            "3532  _sutra what is your next youtube video gonna b...          2\n",
            "3533   http://twitpic.com/4woj2 - omgssh  ang cute n...          2\n",
            "\n",
            "[3534 rows x 2 columns]\n"
          ]
        }
      ]
    },
    {
      "cell_type": "code",
      "source": [
        "df_final = pd.concat([df,df2,df3,df4,df5])\n",
        "df_final = df_final.sample(frac=1)\n",
        "\n",
        "print(df_final)\n",
        "\n",
        "training_split = int(len(df_final)*0.70)\n",
        "validation_split = int(len(df_final)*0.85)\n",
        "\n",
        "train_df = df_final[:training_split]\n",
        "val_df = df_final[training_split:validation_split]\n",
        "test_df = df_final[validation_split:]\n",
        "\n",
        "print(len(train_df))\n",
        "print(len(val_df))\n",
        "print(len(test_df))"
      ],
      "metadata": {
        "colab": {
          "base_uri": "https://localhost:8080/"
        },
        "id": "Bm_Hvg4ZlWLl",
        "outputId": "b332e25a-5d80-4b68-97c8-eb61633ecffe"
      },
      "execution_count": null,
      "outputs": [
        {
          "output_type": "stream",
          "name": "stdout",
          "text": [
            "                                                    text  sentiment\n",
            "609    @TalkingHat @stefapie all your Bitcoin are bel...          1\n",
            "9195              learn learn!... we can learn together!          2\n",
            "7680   Long/Short Bitcoin swings with up to 100x Leve...          1\n",
            "30636  Favorite Personal Singleplayer: FO New Vegas. ...          0\n",
            "14524            OO YAY 39 FOLLOWERS I WANT 100  HELP ME          2\n",
            "...                                                  ...        ...\n",
            "35538  @ GovRonDeSantis I've been to Walmart once thi...          0\n",
            "4888      http://twitpic.com/4i2zu - wow, thats so cool!          2\n",
            "8287            13:00 is kickoff. The red cars hopefully          2\n",
            "43471                                 Dont come to mind.          1\n",
            "18563   - I enjoyed seeing EVERYONE that presented on...          2\n",
            "\n",
            "[144113 rows x 2 columns]\n",
            "100879\n",
            "21617\n",
            "21617\n"
          ]
        }
      ]
    },
    {
      "cell_type": "code",
      "execution_count": null,
      "metadata": {
        "id": "KHDF0v1ctwT6"
      },
      "outputs": [],
      "source": [
        "# helper function to obtain glove embeddings\n",
        "def split_tweet(tweet):\n",
        "    # separate punctuations\n",
        "    tweet = tweet.replace(\".\", \" . \") \\\n",
        "                 .replace(\",\", \" , \") \\\n",
        "                 .replace(\";\", \" ; \") \\\n",
        "                 .replace(\"?\", \" ? \")\n",
        "    return tweet.lower().split()"
      ]
    },
    {
      "cell_type": "code",
      "execution_count": null,
      "metadata": {
        "id": "jLDLpVraug23"
      },
      "outputs": [],
      "source": [
        "# helper function to obtain glove embeddings\n",
        "def glove_vectorize_data(train_df,val_df,test_df, glove_embedding):\n",
        "  train_data = []\n",
        "  val_data = []\n",
        "  test_data = []\n",
        "\n",
        "  for i in range(len(train_df['text'])):\n",
        "      tweet = train_df['text'].iloc[i]\n",
        "      idxs = [glove_embedding.stoi[w]        # lookup the index of word and storing the indices in a tensor\n",
        "              for w in split_tweet(tweet)\n",
        "              if w in glove_embedding.stoi] # keep words that has an embedding\n",
        "      if not idxs: # ignore tweets without any word with an embedding\n",
        "        continue\n",
        "      idxs = torch.tensor(idxs) # convert list to pytorch tensor\n",
        "      label = torch.tensor(int(train_df['sentiment'].iloc[i]))\n",
        "      train_data.append((idxs, label))\n",
        "\n",
        "  for i in range(len(val_df['text'])):\n",
        "      tweet = val_df['text'].iloc[i]\n",
        "      idxs = [glove_embedding.stoi[w]        # lookup the index of word and storing the indices in a tensor\n",
        "              for w in split_tweet(tweet)\n",
        "              if w in glove_embedding.stoi] # keep words that has an embedding\n",
        "      if not idxs: # ignore tweets without any word with an embedding\n",
        "        continue\n",
        "      idxs = torch.tensor(idxs) # convert list to pytorch tensor\n",
        "      label = torch.tensor(int(val_df['sentiment'].iloc[i]))\n",
        "      val_data.append((idxs, label))\n",
        "\n",
        "  for i in range(len(test_df['text'])):\n",
        "      tweet = test_df['text'].iloc[i]\n",
        "      idxs = [glove_embedding.stoi[w]        # lookup the index of word and storing the indices in a tensor\n",
        "              for w in split_tweet(tweet)\n",
        "              if w in glove_embedding.stoi] # keep words that has an embedding\n",
        "      if not idxs: # ignore tweets without any word with an embedding\n",
        "        continue\n",
        "      idxs = torch.tensor(idxs) # convert list to pytorch tensor\n",
        "      label = torch.tensor(int(test_df['sentiment'].iloc[i]))\n",
        "      test_data.append((idxs, label))\n",
        "\n",
        "  return train_data, val_data, test_data"
      ]
    },
    {
      "cell_type": "code",
      "execution_count": null,
      "metadata": {
        "id": "fNtPwxDz28yT"
      },
      "outputs": [],
      "source": [
        "# getting glove embeddings for data\n",
        "train_data_50, val_data_50, test_data_50 = glove_vectorize_data(train_df,val_df,test_df, glove_tweet_50)\n",
        "train_data_100, val_data_100, test_data_100 = glove_vectorize_data(train_df,val_df,test_df, glove_tweet_100)\n",
        "train_data_200, val_data_200, test_data_200 = glove_vectorize_data(train_df,val_df,test_df, glove_tweet_200)\n",
        "train_data_840, val_data_840, test_data_840 = glove_vectorize_data(train_df,val_df,test_df, glove_840B)"
      ]
    },
    {
      "cell_type": "code",
      "execution_count": null,
      "metadata": {
        "id": "58TU_ONP1p-S"
      },
      "outputs": [],
      "source": [
        "# helper function for batching tweets into groups of the same length\n",
        "import random\n",
        "\n",
        "class TweetBatcher:\n",
        "    def __init__(self, tweets, batch_size=32, drop_last=False):\n",
        "        # store tweets by length\n",
        "        self.tweets_by_length = {}\n",
        "        for words, label in tweets:\n",
        "            # compute the length of the tweet\n",
        "            wlen = words.shape[0]\n",
        "            # put the tweet in the correct key inside self.tweet_by_length\n",
        "            if wlen not in self.tweets_by_length:\n",
        "                self.tweets_by_length[wlen] = []\n",
        "            self.tweets_by_length[wlen].append((words, label),)\n",
        "\n",
        "        #  create a DataLoader for each set of tweets of the same length\n",
        "        self.loaders = {wlen : torch.utils.data.DataLoader(\n",
        "                                    tweets,\n",
        "                                    batch_size=batch_size,\n",
        "                                    shuffle=True,\n",
        "                                    drop_last=drop_last) # omit last batch if smaller than batch_size\n",
        "            for wlen, tweets in self.tweets_by_length.items()}\n",
        "\n",
        "    def __iter__(self): # called by Python to create an iterator\n",
        "        # make an iterator for every tweet length\n",
        "        iters = [iter(loader) for loader in self.loaders.values()]\n",
        "        while iters:\n",
        "            # pick an iterator (a length)\n",
        "            im = random.choice(iters)\n",
        "            try:\n",
        "                yield next(im)\n",
        "            except StopIteration:\n",
        "                # no more elements in the iterator, remove it\n",
        "                iters.remove(im)"
      ]
    },
    {
      "cell_type": "code",
      "source": [
        "#load data for models\n",
        "#batch_size = 32\n",
        "train_loader_32_50 = TweetBatcher(train_data_50, batch_size=32, drop_last=False)\n",
        "valid_loader_32_50 = TweetBatcher(val_data_50, batch_size=32, drop_last=False)\n",
        "test_loader_32_50 = TweetBatcher(test_data_50, batch_size=32, drop_last=False)\n",
        "train_loader_32_100 = TweetBatcher(train_data_100, batch_size=32, drop_last=False)\n",
        "valid_loader_32_100 = TweetBatcher(val_data_100, batch_size=32, drop_last=False)\n",
        "test_loader_32_100 = TweetBatcher(test_data_100, batch_size=32, drop_last=False)\n",
        "train_loader_32_200 = TweetBatcher(train_data_200, batch_size=32, drop_last=False)\n",
        "valid_loader_32_200 = TweetBatcher(val_data_200, batch_size=32, drop_last=False)\n",
        "test_loader_32_200 = TweetBatcher(test_data_200, batch_size=32, drop_last=False)\n",
        "train_loader_32_840 = TweetBatcher(train_data_840, batch_size=32, drop_last=False)\n",
        "valid_loader_32_840 = TweetBatcher(val_data_840, batch_size=32, drop_last=False)\n",
        "test_loader_32_840 = TweetBatcher(test_data_840, batch_size=32, drop_last=False)\n",
        "#batch_size = 64\n",
        "train_loader_64_50 = TweetBatcher(train_data_50, batch_size=64, drop_last=False)\n",
        "valid_loader_64_50 = TweetBatcher(val_data_50, batch_size=64, drop_last=False)\n",
        "test_loader_64_50 = TweetBatcher(test_data_50, batch_size=64, drop_last=False)\n",
        "train_loader_64_100 = TweetBatcher(train_data_100, batch_size=64, drop_last=False)\n",
        "valid_loader_64_100 = TweetBatcher(val_data_100, batch_size=64, drop_last=False)\n",
        "test_loader_64_100 = TweetBatcher(test_data_100, batch_size=64, drop_last=False)\n",
        "train_loader_64_200 = TweetBatcher(train_data_200, batch_size=64, drop_last=False)\n",
        "valid_loader_64_200 = TweetBatcher(val_data_200, batch_size=64, drop_last=False)\n",
        "test_loader_64_200 = TweetBatcher(test_data_200, batch_size=64, drop_last=False)\n",
        "train_loader_64_840 = TweetBatcher(train_data_840, batch_size=64, drop_last=False)\n",
        "valid_loader_64_840 = TweetBatcher(val_data_840, batch_size=64, drop_last=False)\n",
        "test_loader_64_840 = TweetBatcher(test_data_840, batch_size=64, drop_last=False)\n",
        "#batch size = 128\n",
        "train_loader_128_840 = TweetBatcher(train_data_840, batch_size=128, drop_last=False)\n",
        "valid_loader_128_840 = TweetBatcher(val_data_840, batch_size=128, drop_last=False)\n",
        "test_loader_128_840 = TweetBatcher(test_data_840, batch_size=128, drop_last=False)\n",
        "#batch size = 256\n",
        "train_loader_256_840 = TweetBatcher(train_data_840, batch_size=256, drop_last=False)\n",
        "valid_loader_256_840 = TweetBatcher(val_data_840, batch_size=256, drop_last=False)\n",
        "test_loader_256_840 = TweetBatcher(test_data_840, batch_size=256, drop_last=False)"
      ],
      "metadata": {
        "id": "C5mKtuk3pSFW"
      },
      "execution_count": null,
      "outputs": []
    },
    {
      "cell_type": "code",
      "execution_count": null,
      "metadata": {
        "id": "vNV-aSqPny1E"
      },
      "outputs": [],
      "source": [
        "#  helper function to calculate accuracy of the model\n",
        "def get_accuracy(model, data_loader):\n",
        "    correct, total = 0, 0\n",
        "    for tweets, labels in data_loader:\n",
        "        #############################################\n",
        "        #To Enable GPU Usage\n",
        "        if use_cuda and torch.cuda.is_available():\n",
        "          tweets = tweets.cuda()\n",
        "          labels = labels.cuda()\n",
        "        #############################################\n",
        "        # print('Tweets: {}'.format(tweets))\n",
        "        # print('Labels: {}'.format(labels))\n",
        "\n",
        "        output = model(tweets)\n",
        "        pred = output.max(1, keepdim=True)[1]\n",
        "        correct += pred.eq(labels.view_as(pred)).sum().item()\n",
        "        total += labels.shape[0]\n",
        "    return correct / total"
      ]
    },
    {
      "cell_type": "code",
      "execution_count": null,
      "metadata": {
        "id": "iV_zOpQewJsp"
      },
      "outputs": [],
      "source": [
        "# helper function used to save checkpoints\n",
        "def get_model_name(name, batch_size, learning_rate, epoch):\n",
        "    \"\"\" Generate a name for the model consisting of all the hyperparameter values\n",
        "\n",
        "    Args:\n",
        "        config: Configuration object containing the hyperparameters\n",
        "    Returns:\n",
        "        path: A string with the hyperparameter name and value concatenated\n",
        "    \"\"\"\n",
        "    path = \"model_{0}_bs{1}_lr{2}_epoch{3}\".format(name,\n",
        "                                                   batch_size,\n",
        "                                                   learning_rate,\n",
        "                                                   epoch)\n",
        "    return path"
      ]
    },
    {
      "cell_type": "code",
      "execution_count": null,
      "metadata": {
        "id": "oGYlShlsn7Tu"
      },
      "outputs": [],
      "source": [
        "# training code\n",
        "def train_rnn_network(model, train, valid, num_epochs=5, batch_size = 64, learning_rate=1e-5):\n",
        "    criterion = nn.CrossEntropyLoss()\n",
        "    optimizer = torch.optim.Adam(model.parameters(), lr=learning_rate)\n",
        "    train_losses, val_losses, train_acc, valid_acc = [], [], [], []\n",
        "    epochs = []\n",
        "\n",
        "    for epoch in range(num_epochs):\n",
        "        for tweets, labels in train:\n",
        "            #############################################\n",
        "            #To Enable GPU Usage\n",
        "            if use_cuda and torch.cuda.is_available():\n",
        "              tweets = tweets.cuda()\n",
        "              labels = labels.cuda()\n",
        "            #############################################\n",
        "\n",
        "            optimizer.zero_grad()\n",
        "            pred = model(tweets)\n",
        "            train_loss = criterion(pred, labels)\n",
        "            train_loss.backward()\n",
        "            optimizer.step()\n",
        "\n",
        "        for tweets, labels in valid:\n",
        "          #############################################\n",
        "          #To Enable GPU Usage\n",
        "          if use_cuda and torch.cuda.is_available():\n",
        "            tweets = tweets.cuda()\n",
        "            labels = labels.cuda()\n",
        "          #############################################\n",
        "\n",
        "          optimizer.zero_grad()\n",
        "          pred = model(tweets)\n",
        "          val_loss = criterion(pred, labels)\n",
        "\n",
        "        train_losses.append(float(train_loss))\n",
        "        val_losses.append(float(val_loss))\n",
        "        epochs.append(epoch)\n",
        "        train_acc.append(get_accuracy(model, train))\n",
        "        valid_acc.append(get_accuracy(model, valid))\n",
        "\n",
        "        print(\"Epoch {}; Train Loss {}; Train Acc {}; Val Loss {}; Val Acc {}\".format(\n",
        "              epoch+1, train_losses[-1], train_acc[-1], val_losses[-1], valid_acc[-1]))\n",
        "\n",
        "        # Save the current model (checkpoint) to a file\n",
        "        model_path = get_model_name(model.name, batch_size, learning_rate, epoch)\n",
        "        torch.save(model.state_dict(), model_path)\n",
        "\n",
        "    # plotting\n",
        "    plt.title(\"Training Curve\")\n",
        "    plt.plot(train_losses, label=\"Train\")\n",
        "    plt.plot(epochs, val_losses, label=\"Validation\")\n",
        "    plt.xlabel(\"Epoch\")\n",
        "    plt.ylabel(\"Loss\")\n",
        "    plt.show()\n",
        "\n",
        "    plt.title(\"Training Curve\")\n",
        "    plt.plot(epochs, train_acc, label=\"Train\")\n",
        "    plt.plot(epochs, valid_acc, label=\"Validation\")\n",
        "    plt.xlabel(\"Epoch\")\n",
        "    plt.ylabel(\"Accuracy\")\n",
        "    plt.legend(loc='best')\n",
        "    plt.show()"
      ]
    },
    {
      "cell_type": "code",
      "source": [
        "# our final model: 2 layer LSTM\n",
        "class TweetLSTM_concat_dropout2(nn.Module):\n",
        "    def __init__(self, input_size, hidden_size, num_classes, dropout, glove_embedding):\n",
        "        super(TweetLSTM_concat_dropout2, self).__init__()\n",
        "        self.name = 'lstm_concat_dropout2'+'_'+str(input_size)+'_'+str(hidden_size)+'_'+str(dropout)\n",
        "        self.emb = nn.Embedding.from_pretrained(glove_embedding.vectors)\n",
        "        self.hidden_size = hidden_size\n",
        "        self.rnn1 = nn.LSTM(input_size, hidden_size, dropout=dropout, batch_first=True)\n",
        "        self.dropout1 = nn.Dropout(dropout)\n",
        "        self.rnn2 = nn.LSTM(hidden_size, hidden_size, dropout=dropout, batch_first=True)\n",
        "        self.dropout2 = nn.Dropout(dropout)\n",
        "        self.fc = nn.Linear(hidden_size*2, num_classes)\n",
        "\n",
        "\n",
        "    def forward(self, x):\n",
        "        # Look up the embedding\n",
        "        x = self.emb(x)\n",
        "        # Set an initial hidden state and cell state\n",
        "        h0 = torch.zeros(1, x.size(0), self.hidden_size).to(device)\n",
        "        c0 = torch.zeros(1, x.size(0), self.hidden_size).to(device)\n",
        "        # Forward propagate the LSTM\n",
        "        out, _ = self.rnn1(x, (h0, c0))\n",
        "        out = self.dropout1(out)\n",
        "        # Set an initial hidden state and cell state\n",
        "        h0 = torch.zeros(1, x.size(0), self.hidden_size).to(device)\n",
        "        c0 = torch.zeros(1, x.size(0), self.hidden_size).to(device)\n",
        "        # Forward propagate the LSTM\n",
        "        out, _ = self.rnn2(out, (h0, c0))\n",
        "        out = self.dropout2(out)\n",
        "        # Pass the output of the last time step to the classifier\n",
        "        out = torch.cat([torch.max(out, dim=1)[0],\n",
        "                 torch.mean(out, dim=1)], dim=1)\n",
        "        out = self.fc(out)\n",
        "\n",
        "\n",
        "        return out\n"
      ],
      "metadata": {
        "id": "ir35ikHnD-kw"
      },
      "execution_count": null,
      "outputs": []
    },
    {
      "cell_type": "code",
      "source": [
        "# final training curve\n",
        "model12 = TweetLSTM_concat_dropout2(300,600,3,0.9,glove_840B)\n",
        "model12.cuda()\n",
        "train_rnn_network(model12, train_loader_128_840, valid_loader_128_840, num_epochs = 45, batch_size = 128, learning_rate = 5e-4)"
      ],
      "metadata": {
        "colab": {
          "base_uri": "https://localhost:8080/",
          "height": 1000
        },
        "id": "16ZxUfjWEclU",
        "outputId": "f8b92b62-b2df-4ad0-db33-f874cce18719"
      },
      "execution_count": null,
      "outputs": [
        {
          "output_type": "stream",
          "name": "stderr",
          "text": [
            "/usr/local/lib/python3.9/dist-packages/torch/nn/modules/rnn.py:71: UserWarning: dropout option adds dropout after all but last recurrent layer, so non-zero dropout expects num_layers greater than 1, but got dropout=0.9 and num_layers=1\n",
            "  warnings.warn(\"dropout option adds dropout after all but last \"\n"
          ]
        },
        {
          "output_type": "stream",
          "name": "stdout",
          "text": [
            "Epoch 1; Train Loss 0.821543276309967; Train Acc 0.6291191318519697; Val Loss 0.602875828742981; Val Acc 0.6262223664086759\n",
            "Epoch 2; Train Loss 0.5489426851272583; Train Acc 0.6528898517311286; Val Loss 0.854331374168396; Val Acc 0.6509245956342402\n",
            "Epoch 3; Train Loss 0.6684116125106812; Train Acc 0.6713737727073975; Val Loss 0.9411542415618896; Val Acc 0.6681188302358994\n",
            "Epoch 4; Train Loss 0.6821420788764954; Train Acc 0.6825237508446953; Val Loss 0.33134931325912476; Val Acc 0.6769708485887751\n",
            "Epoch 5; Train Loss 0.6163443922996521; Train Acc 0.6851075247446039; Val Loss 0.7211886048316956; Val Acc 0.6784539092552254\n",
            "Epoch 6; Train Loss 0.65876305103302; Train Acc 0.7006002305521326; Val Loss 0.9189262986183167; Val Acc 0.6919868378365852\n",
            "Epoch 7; Train Loss 0.6821126937866211; Train Acc 0.7110943276225306; Val Loss 0.7024368643760681; Val Acc 0.698985030356398\n",
            "Epoch 8; Train Loss 0.5461985468864441; Train Acc 0.717116508327702; Val Loss 1.0967801809310913; Val Acc 0.7049172730221995\n",
            "Epoch 9; Train Loss 0.23585905134677887; Train Acc 0.7237746949159279; Val Loss 0.7207823991775513; Val Acc 0.7113129721462669\n",
            "Epoch 10; Train Loss 0.6874622702598572; Train Acc 0.7373494454823707; Val Loss 0.43006110191345215; Val Acc 0.7156694628539648\n",
            "Epoch 11; Train Loss 0.6392068266868591; Train Acc 0.7461640895178281; Val Loss 0.368105411529541; Val Acc 0.7239653334569217\n",
            "Epoch 12; Train Loss 0.292147696018219; Train Acc 0.7543327900783082; Val Loss 0.7062844634056091; Val Acc 0.7259581962274644\n",
            "Epoch 13; Train Loss 0.4001426696777344; Train Acc 0.7743669753945224; Val Loss 0.4553107023239136; Val Acc 0.7400472725587431\n",
            "Epoch 14; Train Loss 0.37713927030563354; Train Acc 0.7849107604245339; Val Loss 0.5453212857246399; Val Acc 0.7466283542661167\n",
            "Epoch 15; Train Loss 0.4880923628807068; Train Acc 0.7904261239416465; Val Loss 0.5077182650566101; Val Acc 0.740603420308662\n",
            "Epoch 16; Train Loss 0.7593607306480408; Train Acc 0.801834479468935; Val Loss 0.40278947353363037; Val Acc 0.7493627473698846\n",
            "Epoch 17; Train Loss 0.36610478162765503; Train Acc 0.8139086536550463; Val Loss 0.7012903690338135; Val Acc 0.7569170876396163\n",
            "Epoch 18; Train Loss 0.39716872572898865; Train Acc 0.8314882537663474; Val Loss 0.7914180755615234; Val Acc 0.7646568104926542\n",
            "Epoch 19; Train Loss 0.44074857234954834; Train Acc 0.8457089478077672; Val Loss 0.26834020018577576; Val Acc 0.7726746072206516\n",
            "Epoch 20; Train Loss 0.47642290592193604; Train Acc 0.8513634376117979; Val Loss 0.4346003234386444; Val Acc 0.7713769291375075\n",
            "Epoch 21; Train Loss 0.22659501433372498; Train Acc 0.8748559049171205; Val Loss 0.5863532423973083; Val Acc 0.7916763220095472\n",
            "Epoch 22; Train Loss 0.3138714134693146; Train Acc 0.8917796239615217; Val Loss 0.4750013053417206; Val Acc 0.8014552532789544\n",
            "Epoch 23; Train Loss 0.25189685821533203; Train Acc 0.8980403068728385; Val Loss 0.9326351881027222; Val Acc 0.8005283403624229\n",
            "Epoch 24; Train Loss 0.1459667831659317; Train Acc 0.9062487578010097; Val Loss 0.9075919985771179; Val Acc 0.809565741298605\n",
            "Epoch 25; Train Loss 0.24364763498306274; Train Acc 0.915749095679135; Val Loss 0.4979679584503174; Val Acc 0.8172591185058163\n",
            "Epoch 26; Train Loss 0.07933960109949112; Train Acc 0.913145446595381; Val Loss 0.5786634683609009; Val Acc 0.809565741298605\n",
            "Epoch 27; Train Loss 0.126443549990654; Train Acc 0.9300492904559368; Val Loss 0.7444965243339539; Val Acc 0.8230059785883116\n",
            "Epoch 28; Train Loss 0.1816500574350357; Train Acc 0.8997098223158564; Val Loss 0.6164466142654419; Val Acc 0.8063678917365713\n",
            "Epoch 29; Train Loss 0.10972721874713898; Train Acc 0.927147513614501; Val Loss 0.41810017824172974; Val Acc 0.8204569680678501\n",
            "Epoch 30; Train Loss 0.2074194699525833; Train Acc 0.9327225026831498; Val Loss 0.5732107162475586; Val Acc 0.8229596329424851\n",
            "Epoch 31; Train Loss 0.21527695655822754; Train Acc 0.9142385817068808; Val Loss 0.5670647621154785; Val Acc 0.8115122584233211\n",
            "Epoch 32; Train Loss 0.10347016900777817; Train Acc 0.937164606272608; Val Loss 0.7409093379974365; Val Acc 0.8265745933169578\n",
            "Epoch 33; Train Loss 0.08540590107440948; Train Acc 0.9390229359621577; Val Loss 0.8769196271896362; Val Acc 0.8339898966492099\n",
            "Epoch 34; Train Loss 0.19092915952205658; Train Acc 0.9428787216281751; Val Loss 0.364614874124527; Val Acc 0.8338972053575566\n",
            "Epoch 35; Train Loss 0.0029784212820231915; Train Acc 0.9463270660253608; Val Loss 1.1518523693084717; Val Acc 0.8378365852528155\n",
            "Epoch 36; Train Loss 0.130060076713562; Train Acc 0.9519020550940096; Val Loss 0.529662013053894; Val Acc 0.8407100152940631\n",
            "Epoch 37; Train Loss 0.5064111351966858; Train Acc 0.9520709941566959; Val Loss 1.2161675691604614; Val Acc 0.8373267831487232\n",
            "Epoch 38; Train Loss 0.0034988136030733585; Train Acc 0.9563938466430815; Val Loss 1.5036979913711548; Val Acc 0.8423784585438198\n",
            "Epoch 39; Train Loss 0.09281685203313828; Train Acc 0.9494574074810191; Val Loss 0.7407376170158386; Val Acc 0.8419613477313806\n",
            "Epoch 40; Train Loss 0.11307962983846664; Train Acc 0.9600210676948762; Val Loss 0.6484560370445251; Val Acc 0.8470130231264773\n",
            "Epoch 41; Train Loss 0.06345008313655853; Train Acc 0.9625054656755575; Val Loss 0.5591369271278381; Val Acc 0.8498864531677249\n",
            "Epoch 42; Train Loss 0.0009896549163386226; Train Acc 0.9629725324959256; Val Loss 0.7122177481651306; Val Acc 0.8516939333549614\n",
            "Epoch 43; Train Loss 0.000709760410245508; Train Acc 0.9644035457327981; Val Loss 0.8412522077560425; Val Acc 0.8516939333549614\n",
            "Epoch 44; Train Loss 0.20373553037643433; Train Acc 0.9630619708232301; Val Loss 0.6786702275276184; Val Acc 0.8482180099179683\n",
            "Epoch 45; Train Loss 0.004220395814627409; Train Acc 0.9632607226616846; Val Loss 1.185832142829895; Val Acc 0.8506743291467767\n"
          ]
        },
        {
          "output_type": "display_data",
          "data": {
            "text/plain": [
              "<Figure size 640x480 with 1 Axes>"
            ],
            "image/png": "[encoded data removed]"
          },
          "metadata": {}
        },
        {
          "output_type": "display_data",
          "data": {
            "text/plain": [
              "<Figure size 640x480 with 1 Axes>"
            ],
            "image/png": "[encoded data removed]"
          },
          "metadata": {}
        }
      ]
    },
    {
      "cell_type": "code",
      "source": [
        "# freezing the best model\n",
        "model_path = get_model_name('lstm_concat_dropout2_300_600_0.9', batch_size=128, learning_rate=5e-4, epoch=42)\n",
        "state = torch.load(model_path)\n",
        "bestModel= TweetLSTM_concat_dropout2(300, 600, 3, 0.9, glove_840B)\n",
        "bestModel.cuda()\n",
        "bestModel.load_state_dict(state)"
      ],
      "metadata": {
        "colab": {
          "base_uri": "https://localhost:8080/"
        },
        "id": "o1EsXnzwKJWI",
        "outputId": "768fe7b4-ad7b-4bb8-8a1b-ee0568272dfc"
      },
      "execution_count": null,
      "outputs": [
        {
          "output_type": "stream",
          "name": "stderr",
          "text": [
            "/usr/local/lib/python3.9/dist-packages/torch/nn/modules/rnn.py:71: UserWarning: dropout option adds dropout after all but last recurrent layer, so non-zero dropout expects num_layers greater than 1, but got dropout=0.9 and num_layers=1\n",
            "  warnings.warn(\"dropout option adds dropout after all but last \"\n"
          ]
        },
        {
          "output_type": "execute_result",
          "data": {
            "text/plain": [
              "<All keys matched successfully>"
            ]
          },
          "metadata": {},
          "execution_count": 84
        }
      ]
    },
    {
      "cell_type": "code",
      "source": [
        "# saving best model to Drive\n",
        "save_path = '/content/drive/MyDrive/checkpoints/bestModel'\n",
        "torch.save(state, save_path)"
      ],
      "metadata": {
        "id": "agp2yOQ-IkZf"
      },
      "execution_count": null,
      "outputs": []
    },
    {
      "cell_type": "code",
      "source": [
        "# loading saved model\n",
        "drive_path = '/content/drive/MyDrive/Copy of bestmodelFixed.pt'\n",
        "new_model = TweetLSTM_concat_dropout2(300, 600, 3, 0.9, glove_840B)\n",
        "new_model.cuda()\n",
        "new_model.load_state_dict(torch.load(drive_path))"
      ],
      "metadata": {
        "colab": {
          "base_uri": "https://localhost:8080/"
        },
        "id": "7GVfwz2CMsMu",
        "outputId": "4f1c55ac-1d00-417e-cfc5-857ae8993934"
      },
      "execution_count": null,
      "outputs": [
        {
          "output_type": "stream",
          "name": "stderr",
          "text": [
            "/usr/local/lib/python3.9/dist-packages/torch/nn/modules/rnn.py:71: UserWarning: dropout option adds dropout after all but last recurrent layer, so non-zero dropout expects num_layers greater than 1, but got dropout=0.9 and num_layers=1\n",
            "  warnings.warn(\"dropout option adds dropout after all but last \"\n"
          ]
        },
        {
          "output_type": "execute_result",
          "data": {
            "text/plain": [
              "<All keys matched successfully>"
            ]
          },
          "metadata": {},
          "execution_count": 18
        }
      ]
    },
    {
      "cell_type": "code",
      "source": [
        "# finding training and validation accuracy of best model\n",
        "use_cuda = True\n",
        "print('Valid accuracy of best model so far is: {} %'.format(get_accuracy(bestModel, valid_loader_128_840)*100))\n",
        "print('Train accuracy of best model so far is: {} %'.format(get_accuracy(bestModel, train_loader_128_840)*100))"
      ],
      "metadata": {
        "colab": {
          "base_uri": "https://localhost:8080/"
        },
        "id": "YTVOPwVrKVb2",
        "outputId": "9e6fa323-c00a-410c-dc57-47e74cb42305"
      },
      "execution_count": null,
      "outputs": [
        {
          "output_type": "stream",
          "name": "stdout",
          "text": [
            "Valid accuracy of best model so far is: 86.15192102701951 %\n",
            "Train accuracy of best model so far is: 97.3118813849028 %\n"
          ]
        }
      ]
    },
    {
      "cell_type": "code",
      "source": [
        "# finding test accuracy of best model\n",
        "print('Test accuracy of best model so far is: {} %'.format(get_accuracy(bestModel, test_loader_128_840)*100))"
      ],
      "metadata": {
        "colab": {
          "base_uri": "https://localhost:8080/"
        },
        "id": "fIkIxCBBvKAj",
        "outputId": "edbd6baa-14b4-40de-9143-630bd02bc350"
      },
      "execution_count": null,
      "outputs": [
        {
          "output_type": "stream",
          "name": "stdout",
          "text": [
            "Test accuracy of best model so far is: 85.84608252202133 %\n"
          ]
        }
      ]
    },
    {
      "cell_type": "code",
      "source": [
        "# evaluating precision, recall, f1-score and confusion matrix for best model\n",
        "# on validation data\n",
        "from sklearn.metrics import confusion_matrix\n",
        "import matplotlib.pyplot as plt\n",
        "import seaborn as sns\n",
        "\n",
        "def evaluate(model, dataloader):\n",
        "    \"\"\"Evaluates the model on the given dataset and calculates precision, recall, and F1-score for each class.\"\"\"\n",
        "    model.eval()\n",
        "    true_labels = torch.tensor([], dtype=torch.long)\n",
        "    predicted_labels = torch.tensor([], dtype=torch.long)\n",
        "    true_labels = true_labels.cuda()\n",
        "    predicted_labels = predicted_labels.cuda()\n",
        "    with torch.no_grad():\n",
        "        for tweets, labels in dataloader:\n",
        "            #############################################\n",
        "            #To Enable GPU Usage\n",
        "            if use_cuda and torch.cuda.is_available():\n",
        "                tweets = tweets.cuda()\n",
        "                labels = labels.cuda()\n",
        "            #############################################\n",
        "            outputs = model(tweets)\n",
        "            predicted = torch.argmax(outputs, dim=1)\n",
        "            true_labels = torch.cat((true_labels, labels), dim=0)\n",
        "            predicted_labels = torch.cat((predicted_labels, predicted), dim=0)\n",
        "\n",
        "    accuracy = (true_labels == predicted_labels).sum().item() / len(true_labels)\n",
        "\n",
        "    cm = confusion_matrix(true_labels.cpu().numpy(), predicted_labels.cpu().numpy())\n",
        "    precision = 100 * cm.diagonal() / cm.sum(axis=0)\n",
        "    recall = 100 * cm.diagonal() / cm.sum(axis=1)\n",
        "    f1_score = 2 * precision * recall / (precision + recall)\n",
        "\n",
        "    print(f'''Accuracy: {accuracy:.2f}%,\n",
        "    Precision: {precision},\n",
        "    Recall: {recall},\n",
        "    F1-score: {f1_score}\n",
        "    Confusion matrix:\\n {cm}''')\n",
        "    class_names = ['negative', 'neutral', 'positive']\n",
        "    # Plot the confusion matrix as a heatmap\n",
        "    fig, ax = plt.subplots(figsize=(4, 4))\n",
        "    sns.heatmap(cm, annot=True, fmt='d',\n",
        "                xticklabels=class_names, yticklabels=class_names, cmap=\"YlGnBu\")\n",
        "    plt.ylabel('Actual')\n",
        "    plt.xlabel('Predicted')\n",
        "    plt.title('Confusion Matrix')\n",
        "    plt.show()\n",
        "\n",
        "evaluate(bestModel, valid_loader_128_840)"
      ],
      "metadata": {
        "colab": {
          "base_uri": "https://localhost:8080/",
          "height": 549
        },
        "id": "42Y5o4tmJXJD",
        "outputId": "a185bf06-1933-4b9e-cf4d-d6a726211d9d"
      },
      "execution_count": null,
      "outputs": [
        {
          "output_type": "stream",
          "name": "stdout",
          "text": [
            "Accuracy: 0.86%, \n",
            "    Precision: [87.10898913 83.06275187 89.23437958], \n",
            "    Recall: [85.43516874 88.11530475 84.53522301], \n",
            "    F1-score: [86.26396022 85.51446183 86.82126293]\n",
            "    Confusion matrix:\n",
            " [[5291  652  250]\n",
            " [ 489 7214  484]\n",
            " [ 294  819 6084]]\n"
          ]
        },
        {
          "output_type": "display_data",
          "data": {
            "text/plain": [
              "<Figure size 400x400 with 2 Axes>"
            ],
            "image/png": "[encoded data removed]"
          },
          "metadata": {}
        }
      ]
    },
    {
      "cell_type": "code",
      "source": [
        "# evaluating precision, recall, f1-score and confusion matrix for best model\n",
        "# on testing data\n",
        "from sklearn.metrics import confusion_matrix\n",
        "import matplotlib.pyplot as plt\n",
        "import seaborn as sns\n",
        "\n",
        "def evaluate(model, dataloader):\n",
        "    \"\"\"Evaluates the model on the given dataset and calculates precision, recall, and F1-score for each class.\"\"\"\n",
        "    model.eval()\n",
        "    true_labels = torch.tensor([], dtype=torch.long)\n",
        "    predicted_labels = torch.tensor([], dtype=torch.long)\n",
        "    true_labels = true_labels.cuda()\n",
        "    predicted_labels = predicted_labels.cuda()\n",
        "    with torch.no_grad():\n",
        "        for tweets, labels in dataloader:\n",
        "            #############################################\n",
        "            #To Enable GPU Usage\n",
        "            if use_cuda and torch.cuda.is_available():\n",
        "                tweets = tweets.cuda()\n",
        "                labels = labels.cuda()\n",
        "            #############################################\n",
        "            outputs = model(tweets)\n",
        "            predicted = torch.argmax(outputs, dim=1)\n",
        "            true_labels = torch.cat((true_labels, labels), dim=0)\n",
        "            predicted_labels = torch.cat((predicted_labels, predicted), dim=0)\n",
        "\n",
        "    accuracy = (true_labels == predicted_labels).sum().item() / len(true_labels)\n",
        "\n",
        "    cm = confusion_matrix(true_labels.cpu().numpy(), predicted_labels.cpu().numpy())\n",
        "    precision = 100 * cm.diagonal() / cm.sum(axis=0)\n",
        "    recall = 100 * cm.diagonal() / cm.sum(axis=1)\n",
        "    f1_score = 2 * precision * recall / (precision + recall)\n",
        "\n",
        "    print(f'''Accuracy: {accuracy:.2f}%,\n",
        "    Precision: {precision},\n",
        "    Recall: {recall},\n",
        "    F1-score: {f1_score}\n",
        "    Confusion matrix:\\n {cm}''')\n",
        "    class_names = ['negative', 'neutral', 'positive']\n",
        "    # Plot the confusion matrix as a heatmap\n",
        "    fig, ax = plt.subplots(figsize=(4,4 ))\n",
        "    sns.heatmap(cm, annot=True, fmt='d',\n",
        "                xticklabels=class_names, yticklabels=class_names, cmap=\"YlGnBu\")\n",
        "    plt.ylabel('Actual')\n",
        "    plt.xlabel('Predicted')\n",
        "    plt.title('Confusion Matrix')\n",
        "    plt.show()\n",
        "\n",
        "evaluate(bestModel, test_loader_128_840)"
      ],
      "metadata": {
        "colab": {
          "base_uri": "https://localhost:8080/",
          "height": 549
        },
        "id": "Dq3zLDcT_iTC",
        "outputId": "cab8443c-a221-4c25-fb43-73b7c19c8816"
      },
      "execution_count": null,
      "outputs": [
        {
          "output_type": "stream",
          "name": "stdout",
          "text": [
            "Accuracy: 0.86%, \n",
            "    Precision: [87.65120968 81.87314625 89.36077058], \n",
            "    Recall: [83.48535766 88.82425743 84.56014363], \n",
            "    F1-score: [85.51758053 85.20717084 86.8942028 ]\n",
            "    Confusion matrix:\n",
            " [[5217  784  248]\n",
            " [ 422 7177  481]\n",
            " [ 313  805 6123]]\n"
          ]
        },
        {
          "output_type": "display_data",
          "data": {
            "text/plain": [
              "<Figure size 400x400 with 2 Axes>"
            ],
            "image/png": "[encoded data removed]"
          },
          "metadata": {}
        }
      ]
    },
    {
      "cell_type": "code",
      "source": [
        "# helper function to obtain results for demonstration and qualtiative results\n",
        "def get_new_tweet(glove_vector, sample_tweet):\n",
        "    tweet = sample_tweet\n",
        "    idxs = [glove_vector.stoi[w]        # lookup the index of word\n",
        "            for w in split_tweet(tweet)\n",
        "            if w in glove_vector.stoi] # keep words that has an embedding\n",
        "    idxs = torch.tensor(idxs) # convert list to pytorch tensor\n",
        "    return idxs"
      ],
      "metadata": {
        "id": "TRmGztr8412z"
      },
      "execution_count": null,
      "outputs": []
    },
    {
      "cell_type": "code",
      "source": [
        "# dictionary for sentiment values\n",
        "sentiments = {0: 'negative', 1: 'neutral', 2: 'positive'}"
      ],
      "metadata": {
        "id": "Y9m7nIoR6kAT"
      },
      "execution_count": null,
      "outputs": []
    },
    {
      "cell_type": "code",
      "source": [
        "# code used to obtain\n",
        "# qualitative result from presentation - shows random samples from test data\n",
        "import random\n",
        "import textwrap\n",
        "\n",
        "i=0\n",
        "print(\"Testing model on random samples from test data:\\n\")\n",
        "\n",
        "#time.sleep(10)\n",
        "# Assuming your test data is in a DataLoader called `test_loader`\n",
        "for batch_idx, (inputs, targets) in enumerate(valid_loader_128_840):\n",
        "    #############################################\n",
        "    #To Enable GPU Usage\n",
        "    if use_cuda and torch.cuda.is_available():\n",
        "      inputs = inputs.cuda()\n",
        "      targets = targets.cuda()\n",
        "    #############################################\n",
        "    # Get a random sample index within the batch\n",
        "    sample_idx = random.randint(0, len(inputs) - 1)\n",
        "    # Get the input and target for the selected sample\n",
        "    input_sample = inputs[sample_idx]\n",
        "    target_sample = targets[sample_idx]\n",
        "    # Make a prediction for the input sample\n",
        "    output = new_model(input_sample.unsqueeze(0))\n",
        "    _, pred = output.max(1)\n",
        "    pred_label = pred.item()\n",
        "    # Convert tensor to list of word indices\n",
        "    word_indices = input_sample.cpu().numpy().tolist()\n",
        "\n",
        "    # Lookup words in the GloVe embeddings dictionary\n",
        "    words = [glove_840B.itos[idx] for idx in word_indices]\n",
        "\n",
        "    # Concatenate words to form original tweet text\n",
        "    text = ' '.join(words)\n",
        "\n",
        "    # Wrap the text to a width of 170\n",
        "    text_wrapped = textwrap.fill(text, width=150)\n",
        "\n",
        "\n",
        "    # Print the input sample and predicted label\n",
        "    print('Example {}:'.format(batch_idx * 128 + sample_idx))\n",
        "    print('Input: {}'.format(text_wrapped))\n",
        "    #time.sleep(1)\n",
        "    print('Predicted label: {}'.format(sentiments[pred_label]))\n",
        "    print('True label: {}'.format(sentiments[target_sample.item()]))\n",
        "    print('\\n')\n",
        "    #time.sleep(1.5)\n",
        "    i+=1\n",
        "    if i>10:\n",
        "      break\n"
      ],
      "metadata": {
        "id": "Sqi1iW2N79Og"
      },
      "execution_count": null,
      "outputs": []
    },
    {
      "cell_type": "code",
      "source": [
        "# code used for demonstration in final presentation\n",
        "# look at model's performance on Elon Musk's recent tweets\n",
        "my_list = ['NPR literally said “Federal funding is essential to public radio” on their own website (now taken down).What hypocrites!',\n",
        "          'I said BBC could come Twitter, then, to my surprise, a reporter shows up',\n",
        "           'We need a VP of Propaganda … errr I mean Public Relations!',\n",
        "           'An advantage of having organizational affiliation on this platform is that you can change your name without losing verification. More importantly, it helps greatly with reducing impersonation fraud.'\n",
        "           'Tbh, I’m just hoping a media org that takes itself way too seriously writes a story about Harry Bōlz …',\n",
        "           'On the Internet, I’m only 3 inches tall (best case)',\n",
        "           'Impersonating others is wrong!',\n",
        "           'Starship launch trending towards near the end of third week of April',\n",
        "           'Friendship takes work, enmity is effortless',\n",
        "          'I wish the media would stop flattering me all time … it’s a bit much guys',\n",
        "          'They should really get rid of that 100 IQ maximum limit for creating an account on Instagram',\n",
        "          'Credit to Tim Sweeney for realizing this before me',\n",
        "          'Great interview on AI',\n",
        "          'Feels like the future',\n",
        "          'Walked whole Cybertruck production line at Giga Texas for several hours earlier today – gonna be awesome!',\n",
        "          \"The real tragedy of @NYTimes is that their propaganda isn't even interesting\",\n",
        "          'Also, their feed is the Twitter equivalent of diarrhea. It’s unreadable. They would have far more real followers if they only posted their top articles. Same applies to all publications.',\n",
        "          'Don’t Look Up … but AGI instead of comet',\n",
        "          'We live in the most interesting of times',\n",
        "          'Twitter will be updating its recommendation algorithm based on user suggestions every 24 to 48 hours',\n",
        "           'I hate lying to my parents but it’s for their own good',\n",
        "           'She FINALLY texted me after 17 hours now I will make her wait 22 seconds',\n",
        "           'It’s me and my 3 hours of sleep against the world']\n",
        "\n",
        "# Set the width of the text to wrap to\n",
        "width = 170\n",
        "\n",
        "print(\"Testing our model on Elon Musk's recent tweets...\\n\")\n",
        "#time.sleep(1)\n",
        "\n",
        "# Loop through the list and wrap each string\n",
        "for string in my_list:\n",
        "    wrapped_text = textwrap.fill(string, width=width)\n",
        "    new_tweet = get_new_tweet(glove_840B, wrapped_text).cuda()\n",
        "    out = torch.sigmoid(new_model(new_tweet.unsqueeze(0)))\n",
        "    pred = out.max(1, keepdim=True)[1]\n",
        "    print(\"Tweet: {}\".format(wrapped_text))\n",
        "    #time.sleep(1)\n",
        "    print(\"Sentiment: {}\\n\".format(sentiments[pred.item()]))\n",
        "    #time.sleep(1)\n"
      ],
      "metadata": {
        "colab": {
          "base_uri": "https://localhost:8080/"
        },
        "id": "9rwBc48W0VcW",
        "outputId": "d2fc4e25-cb58-4fe7-8042-8e80e6287f78"
      },
      "execution_count": null,
      "outputs": [
        {
          "output_type": "stream",
          "name": "stdout",
          "text": [
            "Testing our model on Elon Musk's recent tweets...\n",
            "\n",
            "Tweet: NPR literally said “Federal funding is essential to public radio” on their own website (now taken down).What hypocrites!\n",
            "Sentiment: positive\n",
            "\n",
            "Tweet: I said BBC could come Twitter, then, to my surprise, a reporter shows up\n",
            "Sentiment: neutral\n",
            "\n",
            "Tweet: We need a VP of Propaganda … errr I mean Public Relations!\n",
            "Sentiment: negative\n",
            "\n",
            "Tweet: An advantage of having organizational affiliation on this platform is that you can change your name without losing verification. More importantly, it helps greatly with\n",
            "reducing impersonation fraud.Tbh, I’m just hoping a media org that takes itself way too seriously writes a story about Harry Bōlz …\n",
            "Sentiment: positive\n",
            "\n",
            "Tweet: On the Internet, I’m only 3 inches tall (best case)\n",
            "Sentiment: neutral\n",
            "\n",
            "Tweet: Impersonating others is wrong!\n",
            "Sentiment: neutral\n",
            "\n",
            "Tweet: Starship launch trending towards near the end of third week of April\n",
            "Sentiment: positive\n",
            "\n",
            "Tweet: Friendship takes work, enmity is effortless\n",
            "Sentiment: negative\n",
            "\n",
            "Tweet: I wish the media would stop flattering me all time … it’s a bit much guys\n",
            "Sentiment: positive\n",
            "\n",
            "Tweet: They should really get rid of that 100 IQ maximum limit for creating an account on Instagram\n",
            "Sentiment: negative\n",
            "\n",
            "Tweet: Credit to Tim Sweeney for realizing this before me\n",
            "Sentiment: neutral\n",
            "\n",
            "Tweet: Great interview on AI\n",
            "Sentiment: positive\n",
            "\n",
            "Tweet: Feels like the future\n",
            "Sentiment: neutral\n",
            "\n",
            "Tweet: Walked whole Cybertruck production line at Giga Texas for several hours earlier today – gonna be awesome!\n",
            "Sentiment: neutral\n",
            "\n",
            "Tweet: The real tragedy of @NYTimes is that their propaganda isn't even interesting\n",
            "Sentiment: negative\n",
            "\n",
            "Tweet: Also, their feed is the Twitter equivalent of diarrhea. It’s unreadable. They would have far more real followers if they only posted their top articles. Same applies to\n",
            "all publications.\n",
            "Sentiment: neutral\n",
            "\n",
            "Tweet: Don’t Look Up … but AGI instead of comet\n",
            "Sentiment: negative\n",
            "\n",
            "Tweet: We live in the most interesting of times\n",
            "Sentiment: neutral\n",
            "\n",
            "Tweet: Twitter will be updating its recommendation algorithm based on user suggestions every 24 to 48 hours\n",
            "Sentiment: neutral\n",
            "\n",
            "Tweet: I hate lying to my parents but it’s for their own good\n",
            "Sentiment: neutral\n",
            "\n",
            "Tweet: She FINALLY texted me after 17 hours now I will make her wait 22 seconds\n",
            "Sentiment: neutral\n",
            "\n",
            "Tweet: It’s me and my 3 hours of sleep against the world\n",
            "Sentiment: negative\n",
            "\n"
          ]
        }
      ]
    },
    {
      "cell_type": "code",
      "source": [
        "# code used to obtain qualitative result for final report\n",
        "\n",
        "import random\n",
        "import textwrap\n",
        "\n",
        "i=0\n",
        "print(\"Testing model on validation data:\\n\")\n",
        "\n",
        "# Assuming your validation data is in a DataLoader called `valid_loader_128_840`\n",
        "for batch_idx, (inputs, targets) in enumerate(train_loader_128_840):\n",
        "    #############################################\n",
        "    #To Enable GPU Usage\n",
        "    if use_cuda and torch.cuda.is_available():\n",
        "      inputs = inputs.cuda()\n",
        "      targets = targets.cuda()\n",
        "    #############################################\n",
        "    # Loop through all samples in the batch\n",
        "    for sample_idx in range(len(inputs)):\n",
        "        # Get the input and target for the selected sample\n",
        "        input_sample = inputs[sample_idx]\n",
        "        target_sample = targets[sample_idx]\n",
        "        # Make a prediction for the input sample\n",
        "        output = new_model(input_sample.unsqueeze(0))\n",
        "        _, pred = output.max(1)\n",
        "        pred_label = pred.item()\n",
        "        # Convert tensor to list of word indices\n",
        "        word_indices = input_sample.cpu().numpy().tolist()\n",
        "\n",
        "        # Lookup words in the GloVe embeddings dictionary\n",
        "        words = [glove_840B.itos[idx] for idx in word_indices]\n",
        "\n",
        "        # Concatenate words to form original tweet text\n",
        "        text = ' '.join(words)\n",
        "\n",
        "        # Wrap the text to a width of 150\n",
        "        text_wrapped = textwrap.fill(text, width=100)\n",
        "\n",
        "        # showing specific results of our model\n",
        "        if sentiments[pred_label] == 'positive' and sentiments[target_sample.item()] == 'positive':\n",
        "          # Print the input sample and predicted label\n",
        "          print('Example {}:'.format(batch_idx * len(inputs) + sample_idx))\n",
        "          print('Input: {}'.format(text_wrapped))\n",
        "          print('Predicted label: {}'.format(sentiments[pred_label]))\n",
        "          print('True label: {}'.format(sentiments[target_sample.item()]))\n",
        "          print('\\n')\n",
        "\n",
        "        i += 1\n",
        "        if i > 10000000:\n",
        "          break\n",
        "\n",
        "    if i > 10000000:\n",
        "      break\n"
      ],
      "metadata": {
        "id": "QcPFbtolhzM7"
      },
      "execution_count": null,
      "outputs": []
    }
  ],
  "metadata": {
    "colab": {
      "provenance": [],
      "machine_shape": "hm",
      "include_colab_link": true
    },
    "kernelspec": {
      "display_name": "Python 3",
      "name": "python3"
    },
    "language_info": {
      "name": "python"
    }
  },
  "nbformat": 4,
  "nbformat_minor": 0
}
