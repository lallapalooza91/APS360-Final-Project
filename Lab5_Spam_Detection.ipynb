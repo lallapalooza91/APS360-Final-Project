{
  "cells": [
    {
      "cell_type": "markdown",
      "metadata": {
        "id": "view-in-github",
        "colab_type": "text"
      },
      "source": [
        "<a href=\"https://colab.research.google.com/github/lallapalooza91/APS360-Final-Project/blob/main/Lab5_Spam_Detection.ipynb\" target=\"_parent\"><img src=\"https://colab.research.google.com/assets/colab-badge.svg\" alt=\"Open In Colab\"/></a>"
      ]
    },
    {
      "cell_type": "markdown",
      "metadata": {
        "id": "_bphECiUa9zw"
      },
      "source": [
        "# Lab 5: Spam Detection\n",
        "\n",
        "In this assignment, we will build a recurrent neural network to classify a SMS text message\n",
        "as \"spam\" or \"not spam\". In the process, you will\n",
        "    \n",
        "1. Clean and process text data for machine learning.\n",
        "2. Understand and implement a character-level recurrent neural network.\n",
        "3. Use torchtext to build recurrent neural network models.\n",
        "4. Understand batching for a recurrent neural network, and use torchtext to implement RNN batching.\n",
        "\n",
        "### What to submit\n",
        "\n",
        "Submit a PDF file containing all your code, outputs, and write-up. You can produce a PDF of your Google Colab file by going to File > Print and then save as PDF. The Colab instructions have more information.\n",
        "\n",
        "Do not submit any other files produced by your code.\n",
        "\n",
        "Include a link to your colab file in your submission."
      ]
    },
    {
      "cell_type": "code",
      "source": [
        "%%shell\n",
        "jupyter nbconvert --to html \"/content/Lab5_Spam_Detection.ipynb\""
      ],
      "metadata": {
        "colab": {
          "base_uri": "https://localhost:8080/"
        },
        "id": "r2IIkYDNaz-G",
        "outputId": "f52f3622-eded-4b82-fbca-d08dc0588256"
      },
      "execution_count": null,
      "outputs": [
        {
          "output_type": "stream",
          "name": "stdout",
          "text": [
            "[NbConvertApp] Converting notebook /content/Lab5_Spam_Detection.ipynb to html\n",
            "[NbConvertApp] Writing 757097 bytes to /content/Lab5_Spam_Detection.html\n"
          ]
        },
        {
          "output_type": "execute_result",
          "data": {
            "text/plain": []
          },
          "metadata": {},
          "execution_count": 251
        }
      ]
    },
    {
      "cell_type": "markdown",
      "metadata": {
        "id": "rWiUqJJTa9z6"
      },
      "source": [
        "## Colab Link\n",
        "\n",
        "Include a link to your Colab file here. If you would like the TA to look at your\n",
        "Colab file in case your solutions are cut off, **please make sure that your Colab\n",
        "file is publicly accessible at the time of submission**."
      ]
    },
    {
      "cell_type": "markdown",
      "metadata": {
        "id": "LuYLc7fLDYTH"
      },
      "source": [
        "Colab Link: https://colab.research.google.com/drive/1lz6NAXXNYZwA0PTqaQ_ZHCFCQLqZqQrm?usp=sharing"
      ]
    },
    {
      "cell_type": "markdown",
      "metadata": {
        "id": "T9ag64zDDYTI"
      },
      "source": [
        "As we are using the older version of the torchtext, please run the following to downgrade the torchtext version:"
      ]
    },
    {
      "cell_type": "code",
      "source": [
        "!pip install -U torch==1.8.0+cu111 torchtext==0.9.0 -f https://download.pytorch.org/whl/torch_stable.html"
      ],
      "metadata": {
        "colab": {
          "base_uri": "https://localhost:8080/"
        },
        "id": "c9uLhP_eDeVI",
        "outputId": "b2e7f028-a382-404a-f195-1e36fcc7ebd3"
      },
      "execution_count": null,
      "outputs": [
        {
          "output_type": "stream",
          "name": "stdout",
          "text": [
            "Looking in indexes: https://pypi.org/simple, https://us-python.pkg.dev/colab-wheels/public/simple/\n",
            "Looking in links: https://download.pytorch.org/whl/torch_stable.html\n",
            "Collecting torch==1.8.0+cu111\n",
            "  Downloading https://download.pytorch.org/whl/cu111/torch-1.8.0%2Bcu111-cp39-cp39-linux_x86_64.whl (1982.3 MB)\n",
            "\u001b[2K     \u001b[90m━━━━━━━━━━━━━━━━━━━━━━━━━━━━━━━━━━━━━━━━\u001b[0m \u001b[32m2.0/2.0 GB\u001b[0m \u001b[31m823.2 kB/s\u001b[0m eta \u001b[36m0:00:00\u001b[0m\n",
            "\u001b[?25hCollecting torchtext==0.9.0\n",
            "  Downloading torchtext-0.9.0-cp39-cp39-manylinux1_x86_64.whl (7.0 MB)\n",
            "\u001b[2K     \u001b[90m━━━━━━━━━━━━━━━━━━━━━━━━━━━━━━━━━━━━━━━━\u001b[0m \u001b[32m7.0/7.0 MB\u001b[0m \u001b[31m65.8 MB/s\u001b[0m eta \u001b[36m0:00:00\u001b[0m\n",
            "\u001b[?25hRequirement already satisfied: typing-extensions in /usr/local/lib/python3.9/dist-packages (from torch==1.8.0+cu111) (4.5.0)\n",
            "Requirement already satisfied: numpy in /usr/local/lib/python3.9/dist-packages (from torch==1.8.0+cu111) (1.22.4)\n",
            "Requirement already satisfied: tqdm in /usr/local/lib/python3.9/dist-packages (from torchtext==0.9.0) (4.65.0)\n",
            "Requirement already satisfied: requests in /usr/local/lib/python3.9/dist-packages (from torchtext==0.9.0) (2.25.1)\n",
            "Requirement already satisfied: chardet<5,>=3.0.2 in /usr/local/lib/python3.9/dist-packages (from requests->torchtext==0.9.0) (4.0.0)\n",
            "Requirement already satisfied: idna<3,>=2.5 in /usr/local/lib/python3.9/dist-packages (from requests->torchtext==0.9.0) (2.10)\n",
            "Requirement already satisfied: urllib3<1.27,>=1.21.1 in /usr/local/lib/python3.9/dist-packages (from requests->torchtext==0.9.0) (1.26.14)\n",
            "Requirement already satisfied: certifi>=2017.4.17 in /usr/local/lib/python3.9/dist-packages (from requests->torchtext==0.9.0) (2022.12.7)\n",
            "Installing collected packages: torch, torchtext\n",
            "  Attempting uninstall: torch\n",
            "    Found existing installation: torch 1.13.1+cu116\n",
            "    Uninstalling torch-1.13.1+cu116:\n",
            "      Successfully uninstalled torch-1.13.1+cu116\n",
            "  Attempting uninstall: torchtext\n",
            "    Found existing installation: torchtext 0.14.1\n",
            "    Uninstalling torchtext-0.14.1:\n",
            "      Successfully uninstalled torchtext-0.14.1\n",
            "\u001b[31mERROR: pip's dependency resolver does not currently take into account all the packages that are installed. This behaviour is the source of the following dependency conflicts.\n",
            "torchvision 0.14.1+cu116 requires torch==1.13.1, but you have torch 1.8.0+cu111 which is incompatible.\n",
            "torchaudio 0.13.1+cu116 requires torch==1.13.1, but you have torch 1.8.0+cu111 which is incompatible.\u001b[0m\u001b[31m\n",
            "\u001b[0mSuccessfully installed torch-1.8.0+cu111 torchtext-0.9.0\n"
          ]
        }
      ]
    },
    {
      "cell_type": "markdown",
      "metadata": {
        "id": "y_gv57cdDYTI"
      },
      "source": [
        "!pip install -U torch==1.8.0+cu111 torchtext==0.9.0 -f https://download.pytorch.org/whl/torch_stable.html"
      ]
    },
    {
      "cell_type": "markdown",
      "metadata": {
        "id": "7iHmoOqJDYTJ"
      },
      "source": [
        "If you are interested to use the most recent version if torchtext, you can look at the following document to see how to convert the legacy version to the new version:\n",
        "https://colab.research.google.com/github/pytorch/text/blob/master/examples/legacy_tutorial/migration_tutorial.ipynb"
      ]
    },
    {
      "cell_type": "code",
      "execution_count": null,
      "metadata": {
        "id": "HgfNOUaPa9z8",
        "tags": []
      },
      "outputs": [],
      "source": [
        "import torch\n",
        "import torch.nn as nn\n",
        "import torch.nn.functional as F\n",
        "import torch.optim as optim\n",
        "import numpy as np"
      ]
    },
    {
      "cell_type": "markdown",
      "metadata": {
        "id": "M0jLI9LBa90C"
      },
      "source": [
        "## Part 1. Data Cleaning [15 pt]\n",
        "\n",
        "We will be using the \"SMS Spam Collection Data Set\" available at http://archive.ics.uci.edu/ml/datasets/SMS+Spam+Collection\n",
        "\n",
        "There is a link to download the \"Data Folder\" at the very top of the webpage. Download the zip file, unzip it, and upload the file `SMSSpamCollection` to Colab.    "
      ]
    },
    {
      "cell_type": "markdown",
      "metadata": {
        "id": "sSuF7C_Ga90E"
      },
      "source": [
        "### Part (a) [2 pt]\n",
        "\n",
        "Open up the file in Python, and print out one example of a spam SMS, and one example of a non-spam SMS.\n",
        "\n",
        "What is the label value for a spam message, and what is the label value for a non-spam message?"
      ]
    },
    {
      "cell_type": "code",
      "execution_count": null,
      "metadata": {
        "id": "I_IfXHeTa90F",
        "jupyter": {
          "outputs_hidden": true
        },
        "colab": {
          "base_uri": "https://localhost:8080/"
        },
        "outputId": "50300ab6-c5bf-4944-8fe0-613bf390893f"
      },
      "outputs": [
        {
          "output_type": "stream",
          "name": "stdout",
          "text": [
            "Label: ham | Message: Go until jurong point, crazy.. Available only in bugis n great world la e buffet... Cine there got amore wat...\n",
            "Label: ham | Message: Ok lar... Joking wif u oni...\n",
            "Label: spam | Message: Free entry in 2 a wkly comp to win FA Cup final tkts 21st May 2005. Text FA to 87121 to receive entry question(std txt rate)T&C's apply 08452810075over18's\n",
            "Label: ham | Message: U dun say so early hor... U c already then say...\n",
            "Label: ham | Message: Nah I don't think he goes to usf, he lives around here though\n",
            "Label: spam | Message: FreeMsg Hey there darling it's been 3 week's now and no word back! I'd like some fun you up for it still? Tb ok! XxX std chgs to send, £1.50 to rcv\n"
          ]
        }
      ],
      "source": [
        "i = 0\n",
        "for line in open('SMSSpamCollection'):\n",
        "    split = line.split()\n",
        "    print('Label: {} | Message: {}'.format(split[0], ' '.join(split[1:])))\n",
        "    i+=1\n",
        "    if (i > 5):\n",
        "      break"
      ]
    },
    {
      "cell_type": "markdown",
      "source": [
        "The label value for a spam message is `spam`, and the label value for non-spam message is `ham`."
      ],
      "metadata": {
        "id": "-QrVVweUTeR1"
      }
    },
    {
      "cell_type": "markdown",
      "metadata": {
        "id": "AukA6vMVa90d"
      },
      "source": [
        "### Part (b) [1 pt]\n",
        "\n",
        "How many spam messages are there in the data set?\n",
        "How many non-spam messages are there in the data set?\n"
      ]
    },
    {
      "cell_type": "code",
      "execution_count": null,
      "metadata": {
        "collapsed": true,
        "id": "LgsqyemVa90e",
        "jupyter": {
          "outputs_hidden": true
        },
        "colab": {
          "base_uri": "https://localhost:8080/"
        },
        "outputId": "077d35a3-cfec-4fc7-b522-a80d96af7309"
      },
      "outputs": [
        {
          "output_type": "stream",
          "name": "stdout",
          "text": [
            "There are 747 spam messages in the dataset\n",
            "There are 4827 non-spam messages in the dataset\n"
          ]
        }
      ],
      "source": [
        "spam = 0\n",
        "ham = 0\n",
        "for line in open('SMSSpamCollection'):\n",
        "    split = line.split()\n",
        "    if(split[0] == 'spam'):\n",
        "      spam+=1\n",
        "    if(split[0] == 'ham'):\n",
        "      ham+=1\n",
        "\n",
        "print('There are {} spam messages in the dataset'.format(spam))\n",
        "print('There are {} non-spam messages in the dataset'.format(ham))"
      ]
    },
    {
      "cell_type": "markdown",
      "metadata": {
        "id": "d1WXxVt6a90h"
      },
      "source": [
        "### Part (c) [4 pt]\n",
        "\n",
        "We will be using the package `torchtext` to load, process, and batch the data.\n",
        "A tutorial to torchtext is available below. This tutorial uses the same\n",
        "Sentiment140 data set that we explored during lecture.\n",
        "\n",
        "https://medium.com/@sonicboom8/sentiment-analysis-torchtext-55fb57b1fab8\n",
        "\n",
        "Unlike what we did during lecture, we will be building a **character level RNN**.\n",
        "That is, we will treat each **character** as a token in our sequence,\n",
        "rather than each **word**.\n",
        "\n",
        "Identify two advantage and two disadvantage of modelling SMS text\n",
        "messages as a sequence of characters rather than a sequence of words."
      ]
    },
    {
      "cell_type": "markdown",
      "source": [
        "Advantages:\n",
        "1. Makes it easier to handle uncommon or misspelt words. The model can still use a word even if it has been misspelt because it is broken down into its individual letters.\n",
        "2. Language independence. With character modeling, we can model any language once we have the character set (letters) for that language.\n",
        "\n",
        "Disadvantages:\n",
        "1. Training time increases. Using character modeling means there are more items in the input sequence and thus takes longer to train.\n",
        "2. Character-level modelling may not be able to capture the relationships between words, and thus the semantic meaning of the words may be lost. The model may not be able to fully understand the context of the sentence/entire piece of text."
      ],
      "metadata": {
        "id": "O6r6gHFFVbUw"
      }
    },
    {
      "cell_type": "markdown",
      "metadata": {
        "id": "ie_D0bv9a90k"
      },
      "source": [
        "### Part (d) [1 pt]\n",
        "\n",
        "We will be loading our data set using `torchtext.data.TabularDataset`. The\n",
        "constructor will read directly from the `SMSSpamCollection` file.\n",
        "\n",
        "For the data file to be read successfuly, we\n",
        "need to specify the **fields** (columns) in the file.\n",
        "In our case, the dataset has two fields:\n",
        "\n",
        "- a text field containing the sms messages,\n",
        "- a label field which will be converted into a binary label.\n",
        "\n",
        "Split the dataset into `train`, `valid`, and `test`. Use a 60-20-20 split.\n",
        "You may find this torchtext API page helpful:\n",
        "https://torchtext.readthedocs.io/en/latest/data.html#dataset\n",
        "\n",
        "Hint: There is a `Dataset` method that can perform the random split for you."
      ]
    },
    {
      "cell_type": "code",
      "source": [
        "import torchtext.legacy.data as data\n",
        "from torchtext.legacy.data import TabularDataset, Dataset\n",
        "import csv"
      ],
      "metadata": {
        "id": "MdhhFdbV5vek"
      },
      "execution_count": null,
      "outputs": []
    },
    {
      "cell_type": "code",
      "source": [
        "# Define the fields\n",
        "text_field = data.Field(sequential=True, tokenize= lambda x:list(x), batch_first=True)\n",
        "# I converted 'spam' to 1 and 'ham' to 0\n",
        "label = data.Field(sequential=False, preprocessing=lambda x: int(x == 'spam'), use_vocab=False)\n",
        "\n",
        "# Load the dataset\n",
        "all_data = data.TabularDataset(\n",
        "    path='/content/SMSSpamCollection', format='tsv', fields=[('label', label), ('text', text_field)],\n",
        "    skip_header=False\n",
        ")"
      ],
      "metadata": {
        "id": "EAjMgEnbFuuw"
      },
      "execution_count": null,
      "outputs": []
    },
    {
      "cell_type": "code",
      "source": [
        "# splitting the data\n",
        "train_data, val_data = Dataset.split(\n",
        "    all_data,\n",
        "    split_ratio=0.6,  # 60% for training\n",
        "    stratified=True,\n",
        "    strata_field='label'\n",
        ")"
      ],
      "metadata": {
        "id": "_qN2WoAj9kiW"
      },
      "execution_count": null,
      "outputs": []
    },
    {
      "cell_type": "code",
      "source": [
        "val_data, test_data = Dataset.split(\n",
        "    val_data,\n",
        "    split_ratio=0.5,  # 20% each for val and test\n",
        "    stratified=True,\n",
        "    strata_field='label'\n",
        ")"
      ],
      "metadata": {
        "id": "Ki-TAYgo_ckd"
      },
      "execution_count": null,
      "outputs": []
    },
    {
      "cell_type": "markdown",
      "metadata": {
        "id": "v6nP0Ks_a90o"
      },
      "source": [
        "### Part (e) [2 pt]\n",
        "\n",
        "You saw in part (b) that there are many more non-spam messages than spam messages.\n",
        "This **imbalance** in our training data will be problematic for training.\n",
        "We can fix this disparity by duplicating spam messages in the training set,\n",
        "so that the training set is roughly **balanced**.\n",
        "\n",
        "Explain why having a balanced training set is helpful for training our neural network.\n",
        "\n",
        "Note: if you are not sure, try removing the below code and train your mode."
      ]
    },
    {
      "cell_type": "markdown",
      "source": [
        "A balanced training set is helpful because if there is an imbalance, the model may only learn to predict the majority class (the class with more samples) correctly and ignore the minority classes. In this case, it may predict all messages as non-spam messages. This is important in this case because we are more interested in identifying which messages are spam (minority) than non-spam (majority).\n",
        "\n",
        "If the model is trained on an imbalanced training set it may not generalize well to new data, especially examples from the minority classes.\n",
        "\n",
        "Finally, having a balanced training set improves performance of the model as it is now forced to learn more about the minority classes and thus make better predictions."
      ],
      "metadata": {
        "id": "Brbsc7g3I-BH"
      }
    },
    {
      "cell_type": "code",
      "execution_count": null,
      "metadata": {
        "collapsed": true,
        "id": "FWvx9_rka90p",
        "jupyter": {
          "outputs_hidden": true
        }
      },
      "outputs": [],
      "source": [
        "# save the original training examples\n",
        "old_train_examples = train_data.examples\n",
        "# get all the spam messages in `train`\n",
        "train_spam = []\n",
        "for item in train_data.examples:\n",
        "    if item.label == 1:\n",
        "        train_spam.append(item)\n",
        "# duplicate each spam message 6 more times\n",
        "train_data.examples = old_train_examples + train_spam * 6"
      ]
    },
    {
      "cell_type": "markdown",
      "metadata": {
        "id": "j7eUmBEva90r"
      },
      "source": [
        "### Part (f) [1 pt]\n",
        "\n",
        "We need to build the vocabulary on the training data by running the below code.\n",
        "This finds all the possible character tokens in the training set.\n",
        "\n",
        "Explain what the variables `text_field.vocab.stoi` and `text_field.vocab.itos` represent."
      ]
    },
    {
      "cell_type": "code",
      "execution_count": null,
      "metadata": {
        "id": "8CQM8flKa90s",
        "jupyter": {
          "outputs_hidden": true
        },
        "colab": {
          "base_uri": "https://localhost:8080/"
        },
        "outputId": "a8c80f28-c236-4ff3-9655-69873875f232"
      },
      "outputs": [
        {
          "output_type": "stream",
          "name": "stdout",
          "text": [
            "defaultdict(<bound method Vocab._default_unk_index of <torchtext.vocab.Vocab object at 0x7fbfbd62b9d0>>, {'<unk>': 0, '<pad>': 1, ' ': 2, 'e': 3, 'o': 4, 't': 5, 'a': 6, 'n': 7, 'r': 8, 'i': 9, 's': 10, 'l': 11, 'u': 12, 'h': 13, '0': 14, 'd': 15, '.': 16, 'c': 17, 'm': 18, 'y': 19, 'w': 20, 'p': 21, 'g': 22, 'f': 23, '1': 24, 'b': 25, '2': 26, '8': 27, 'T': 28, 'k': 29, 'v': 30, 'E': 31, 'S': 32, '5': 33, 'C': 34, 'O': 35, 'I': 36, '4': 37, '7': 38, 'N': 39, 'A': 40, 'x': 41, '3': 42, '6': 43, 'R': 44, ',': 45, '9': 46, '!': 47, 'P': 48, 'U': 49, 'M': 50, 'W': 51, 'H': 52, 'L': 53, 'D': 54, 'B': 55, 'F': 56, 'Y': 57, 'G': 58, \"'\": 59, '/': 60, '?': 61, '£': 62, '-': 63, '&': 64, ':': 65, 'V': 66, 'z': 67, 'X': 68, 'K': 69, 'j': 70, ')': 71, 'J': 72, '*': 73, '+': 74, ';': 75, '(': 76, '\"': 77, 'q': 78, 'Q': 79, '#': 80, '=': 81, '@': 82, 'Z': 83, '>': 84, 'ü': 85, '$': 86, 'Ü': 87, '<': 88, '\\x92': 89, '‘': 90, '|': 91, '[': 92, ']': 93, '_': 94, '\\x93': 95, '¡': 96, '%': 97, '’': 98, '–': 99, 'ú': 100, '“': 101, '…': 102, '\\\\': 103, '\\x96': 104, 'é': 105, '\\t': 106, '\\n': 107, '~': 108, '\\x91': 109, '^': 110, '»': 111, 'É': 112, 'è': 113})\n",
            "['<unk>', '<pad>', ' ', 'e', 'o', 't', 'a', 'n', 'r', 'i', 's', 'l', 'u', 'h', '0', 'd', '.', 'c', 'm', 'y', 'w', 'p', 'g', 'f', '1', 'b', '2', '8', 'T', 'k', 'v', 'E', 'S', '5', 'C', 'O', 'I', '4', '7', 'N', 'A', 'x', '3', '6', 'R', ',', '9', '!', 'P', 'U', 'M', 'W', 'H', 'L', 'D', 'B', 'F', 'Y', 'G', \"'\", '/', '?', '£', '-', '&', ':', 'V', 'z', 'X', 'K', 'j', ')', 'J', '*', '+', ';', '(', '\"', 'q', 'Q', '#', '=', '@', 'Z', '>', 'ü', '$', 'Ü', '<', '\\x92', '‘', '|', '[', ']', '_', '\\x93', '¡', '%', '’', '–', 'ú', '“', '…', '\\\\', '\\x96', 'é', '\\t', '\\n', '~', '\\x91', '^', '»', 'É', 'è']\n"
          ]
        }
      ],
      "source": [
        "text_field.build_vocab(train_data)\n",
        "print(text_field.vocab.stoi)\n",
        "print(text_field.vocab.itos)"
      ]
    },
    {
      "cell_type": "markdown",
      "source": [
        "build_vocab is a function in PyTorch's torchtext library that is used to create the vocabulary for text data. It takes a dataset as input and returns a vocabulary object that can be used to map words to unique integer IDs.\n",
        "\n",
        "`text_field.vocab.stoi` is a dictionary that maps each unique character from the vocabulary created by `build_vocab` (obtained from all the messages in the training data in this case) to a corresponding index.\n",
        "\n",
        "`text_field.vocab.itos` is a list of all the unique characters in the messages, organized by their index from `text_field.vocab.stoi`.\n"
      ],
      "metadata": {
        "id": "sZ-WrPvTKM5l"
      }
    },
    {
      "cell_type": "markdown",
      "metadata": {
        "id": "TC8WVE8Ua90u"
      },
      "source": [
        "### Part (g) [2 pt]\n",
        "\n",
        "The tokens `<unk>` and `<pad>` were not in our SMS text messages.\n",
        "What do these two values represent?"
      ]
    },
    {
      "cell_type": "markdown",
      "source": [
        "`<unk>` stands for \"unknown\" and `<pad>` stands for \"padding\".\n",
        "\n",
        "`<unk>` is assigned to any letter that is not present in the vocabulary, that may appear in testing/inference.\n",
        "\n",
        "`<pad>` is used to pad the character sequences (or sentences) to a fixed length. All sentences in a batch are padded with this token at the end if necessary so that they all have the same length to pass to the network."
      ],
      "metadata": {
        "id": "nmAv-gUDK4Sx"
      }
    },
    {
      "cell_type": "markdown",
      "metadata": {
        "id": "Ff5CNk7Qa90y"
      },
      "source": [
        "### Part (h) [2 pt]\n",
        "\n",
        "Since text sequences are of variable length, `torchtext` provides a `BucketIterator` data loader,\n",
        "which batches similar length sequences together. The iterator also provides functionalities to\n",
        "pad sequences automatically.\n",
        "\n",
        "Take a look at 10 batches in `train_iter`. What is the maximum length of the\n",
        "input sequence in each batch? How many `<pad>` tokens are used in each of the 10\n",
        "batches?"
      ]
    },
    {
      "cell_type": "code",
      "execution_count": null,
      "metadata": {
        "collapsed": true,
        "id": "V8N8qLWOa90y",
        "jupyter": {
          "outputs_hidden": true
        }
      },
      "outputs": [],
      "source": [
        "train_iter = data.BucketIterator(train_data,\n",
        "                                           batch_size=32,\n",
        "                                           sort_key=lambda x: len(x.text), # to minimize padding\n",
        "                                           sort_within_batch=True,        # sort within each batch\n",
        "                                           repeat=False)                  # repeat the iterator for many epochs"
      ]
    },
    {
      "cell_type": "code",
      "source": [
        "i = 0\n",
        "for batch in train_iter:\n",
        "    i+=1\n",
        "    pad_count = 0\n",
        "    max_length = len(batch.text[0])\n",
        "    print(\"Batch {}:\".format(i))\n",
        "    print('Maximum length of input sequence: {}'.format(max_length))\n",
        "    for j in range(0,len(batch.text)):\n",
        "      # count the pad tokens in each tensor\n",
        "      pad_count += (batch.text[j] == 1).sum().item()\n",
        "    print('Number of pad tokens: {}\\n'.format(pad_count))\n",
        "    # look at 10 batches\n",
        "    if (i>9):\n",
        "      break"
      ],
      "metadata": {
        "colab": {
          "base_uri": "https://localhost:8080/"
        },
        "id": "J3TxGTShNqaI",
        "outputId": "a205b5e3-9600-42cf-f048-bfcb837d2219"
      },
      "execution_count": null,
      "outputs": [
        {
          "output_type": "stream",
          "name": "stdout",
          "text": [
            "Batch 1:\n",
            "Maximum length of input sequence: 148\n",
            "Number of pad tokens: 24\n",
            "\n",
            "Batch 2:\n",
            "Maximum length of input sequence: 45\n",
            "Number of pad tokens: 12\n",
            "\n",
            "Batch 3:\n",
            "Maximum length of input sequence: 36\n",
            "Number of pad tokens: 32\n",
            "\n",
            "Batch 4:\n",
            "Maximum length of input sequence: 126\n",
            "Number of pad tokens: 13\n",
            "\n",
            "Batch 5:\n",
            "Maximum length of input sequence: 171\n",
            "Number of pad tokens: 158\n",
            "\n",
            "Batch 6:\n",
            "Maximum length of input sequence: 96\n",
            "Number of pad tokens: 61\n",
            "\n",
            "Batch 7:\n",
            "Maximum length of input sequence: 56\n",
            "Number of pad tokens: 38\n",
            "\n",
            "Batch 8:\n",
            "Maximum length of input sequence: 149\n",
            "Number of pad tokens: 0\n",
            "\n",
            "Batch 9:\n",
            "Maximum length of input sequence: 59\n",
            "Number of pad tokens: 51\n",
            "\n",
            "Batch 10:\n",
            "Maximum length of input sequence: 44\n",
            "Number of pad tokens: 38\n",
            "\n"
          ]
        }
      ]
    },
    {
      "cell_type": "markdown",
      "metadata": {
        "id": "y7HnqP6_a904"
      },
      "source": [
        "## Part 2. Model Building [8 pt]\n",
        "\n",
        "Build a recurrent neural network model, using an architecture of your choosing.\n",
        "Use the one-hot embedding of each character as input to your recurrent network.\n",
        "Use one or more fully-connected layers to make the prediction based on your\n",
        "recurrent network output.\n",
        "\n",
        "Instead of using the RNN output value for the final token, another often used\n",
        "strategy is to max-pool over the entire output array. That is, instead of calling\n",
        "something like:\n",
        "\n",
        "```\n",
        "out, _ = self.rnn(x)\n",
        "self.fc(out[:, -1, :])\n",
        "```\n",
        "\n",
        "where `self.rnn` is an `nn.RNN`, `nn.GRU`, or `nn.LSTM` module, and `self.fc` is a\n",
        "fully-connected\n",
        "layer, we use:\n",
        "\n",
        "```\n",
        "out, _ = self.rnn(x)\n",
        "self.fc(torch.max(out, dim=1)[0])\n",
        "```\n",
        "\n",
        "This works reasonably in practice. An even better alternative is to concatenate the\n",
        "max-pooling and average-pooling of the RNN outputs:\n",
        "\n",
        "```\n",
        "out, _ = self.rnn(x)\n",
        "out = torch.cat([torch.max(out, dim=1)[0],\n",
        "                 torch.mean(out, dim=1)], dim=1)\n",
        "self.fc(out)\n",
        "```\n",
        "\n",
        "We encourage you to try out all these options. The way you pool the RNN outputs\n",
        "is one of the \"hyperparameters\" that you can choose to tune later on."
      ]
    },
    {
      "cell_type": "code",
      "execution_count": null,
      "metadata": {
        "collapsed": true,
        "id": "jHl1p_Wwa905",
        "jupyter": {
          "outputs_hidden": true
        },
        "colab": {
          "base_uri": "https://localhost:8080/"
        },
        "outputId": "6be04ed1-df0d-417c-e2ed-a19cc3bcf3ad"
      },
      "outputs": [
        {
          "output_type": "stream",
          "name": "stdout",
          "text": [
            "tensor([1., 0., 0., 0., 0., 0., 0., 0., 0., 0.])\n",
            "tensor([0., 1., 0., 0., 0., 0., 0., 0., 0., 0.])\n",
            "tensor([[[0., 1., 0., 0., 0., 0., 0., 0., 0., 0.],\n",
            "         [0., 0., 1., 0., 0., 0., 0., 0., 0., 0.]],\n",
            "\n",
            "        [[0., 0., 0., 1., 0., 0., 0., 0., 0., 0.],\n",
            "         [0., 0., 0., 0., 1., 0., 0., 0., 0., 0.]]])\n"
          ]
        }
      ],
      "source": [
        "# You might find this code helpful for obtaining\n",
        "# PyTorch one-hot vectors.\n",
        "\n",
        "ident = torch.eye(10)\n",
        "print(ident[0]) # one-hot vector\n",
        "print(ident[1]) # one-hot vector\n",
        "x = torch.tensor([[1, 2], [3, 4]])\n",
        "print(ident[x]) # one-hot vectors"
      ]
    },
    {
      "cell_type": "code",
      "source": [
        "class RNN(nn.Module):\n",
        "    def __init__(self, hidden_size, num_classes):\n",
        "        super(RNN, self).__init__()\n",
        "        self.name = 'rnn'\n",
        "        # construct matrix for onehot encodings\n",
        "        # its length must be the number of all possible characters\n",
        "        self.ident = torch.eye(len(text_field.vocab.itos))\n",
        "        self.hidden_size = hidden_size\n",
        "        self.rnn = nn.RNN(len(text_field.vocab.itos), hidden_size, batch_first=True)\n",
        "        self.fc = nn.Linear(hidden_size, num_classes)\n",
        "\n",
        "    def forward(self, x):\n",
        "        # Get onehot encoding of input\n",
        "        x = self.ident[x]\n",
        "        # Set an initial hidden state\n",
        "        h0 = torch.zeros(1, x.size(0), self.hidden_size)\n",
        "        # Forward propagate the RNN\n",
        "        out, _ = self.rnn(x, h0)\n",
        "        # Pass the output of the last time step to the classifier\n",
        "        out = self.fc(out[:, -1, :])\n",
        "        return out"
      ],
      "metadata": {
        "id": "6eRgCEPWTtm3"
      },
      "execution_count": null,
      "outputs": []
    },
    {
      "cell_type": "markdown",
      "metadata": {
        "id": "vKIYPl_Ba90_"
      },
      "source": [
        "## Part 3. Training [16 pt]\n",
        "\n",
        "### Part (a) [4 pt]\n",
        "\n",
        "Complete the `get_accuracy` function, which will compute the\n",
        "accuracy (rate) of your model across a dataset (e.g. validation set).\n",
        "You may modify `torchtext.data.BucketIterator` to make your computation\n",
        "faster."
      ]
    },
    {
      "cell_type": "code",
      "source": [
        "# this function is used to save checkpoints\n",
        "def get_model_name(name, batch_size, learning_rate, epoch):\n",
        "    \"\"\" Generate a name for the model consisting of all the hyperparameter values\n",
        "\n",
        "    Args:\n",
        "        config: Configuration object containing the hyperparameters\n",
        "    Returns:\n",
        "        path: A string with the hyperparameter name and value concatenated\n",
        "    \"\"\"\n",
        "    path = \"model_{0}_bs{1}_lr{2}_epoch{3}\".format(name,\n",
        "                                                   batch_size,\n",
        "                                                   learning_rate,\n",
        "                                                   epoch)\n",
        "    return path"
      ],
      "metadata": {
        "id": "iV_zOpQewJsp"
      },
      "execution_count": null,
      "outputs": []
    },
    {
      "cell_type": "code",
      "source": [
        "import matplotlib.pyplot as plt\n",
        "\n",
        "def train_rnn_network(model, train, valid, batch_size = 32, num_epochs=5, learning_rate=1e-5):\n",
        "    criterion = nn.CrossEntropyLoss()\n",
        "    optimizer = torch.optim.Adam(model.parameters(), lr=learning_rate)\n",
        "\n",
        "    # getting the data\n",
        "    train_iter = data.BucketIterator(train,\n",
        "                                           batch_size=batch_size,\n",
        "                                           sort_key=lambda x: len(x.text), # to minimize padding\n",
        "                                           sort_within_batch=True,        # sort within each batch\n",
        "                                           repeat=False)                  # repeat the iterator for many epochs\n",
        "    val_iter = data.BucketIterator(valid,\n",
        "                                           batch_size=batch_size,\n",
        "                                           sort_key=lambda x: len(x.text), # to minimize padding\n",
        "                                           sort_within_batch=True,        # sort within each batch\n",
        "                                           repeat=False)                  # repeat the iterator for many epochs\n",
        "\n",
        "\n",
        "    train_losses, val_losses, train_acc, valid_acc = [], [], [], []\n",
        "    epochs = []\n",
        "    for epoch in range(num_epochs):\n",
        "        # train loss\n",
        "        for batch in train_iter:\n",
        "            optimizer.zero_grad()\n",
        "            pred = model(batch.text)\n",
        "            train_loss = criterion(pred, batch.label)\n",
        "            train_loss.backward()\n",
        "            optimizer.step()\n",
        "\n",
        "        # validation loss\n",
        "        for batch in val_iter:\n",
        "            optimizer.zero_grad()\n",
        "            pred = model(batch.text)\n",
        "            val_loss = criterion(pred, batch.label)\n",
        "\n",
        "        train_losses.append(float(train_loss))\n",
        "        val_losses.append(float(val_loss))\n",
        "        epochs.append(epoch)\n",
        "        train_acc.append(get_accuracy(model, train_iter))\n",
        "        valid_acc.append(get_accuracy(model, val_iter))\n",
        "\n",
        "        print(\"Epoch {}; Train Loss {}; Train Acc {}; Val Loss {}; Val Acc {}\".format(\n",
        "              epoch+1, train_losses[-1], train_acc[-1], val_losses[-1], valid_acc[-1]))\n",
        "\n",
        "        # Save the current model (checkpoint) to a file\n",
        "        model_path = get_model_name(model.name, batch_size, learning_rate, epoch)\n",
        "        torch.save(model.state_dict(), model_path)\n",
        "\n",
        "    # plotting\n",
        "    plt.title(\"Training Curve\")\n",
        "    plt.plot(epochs, train_losses, label=\"Train\")\n",
        "    plt.plot(epochs, val_losses, label=\"Validation\")\n",
        "    plt.xlabel(\"Epoch\")\n",
        "    plt.ylabel(\"Loss\")\n",
        "    plt.show()\n",
        "\n",
        "    plt.title(\"Training Curve\")\n",
        "    plt.plot(epochs, train_acc, label=\"Train\")\n",
        "    plt.plot(epochs, valid_acc, label=\"Validation\")\n",
        "    plt.xlabel(\"Epoch\")\n",
        "    plt.ylabel(\"Accuracy\")\n",
        "    plt.legend(loc='best')\n",
        "    plt.show()"
      ],
      "metadata": {
        "id": "ofksJwjSPhM_"
      },
      "execution_count": null,
      "outputs": []
    },
    {
      "cell_type": "code",
      "source": [
        "def get_accuracy(model, data_iter):\n",
        "    correct, total = 0, 0\n",
        "    for batch in data_iter:\n",
        "        output = model(batch.text)\n",
        "        pred = output.max(1, keepdim=True)[1]\n",
        "        correct += pred.eq(batch.label.view_as(pred)).sum().item()\n",
        "        total += batch.label.shape[0]\n",
        "    return correct / total"
      ],
      "metadata": {
        "id": "43vJ_SGYPg7Y"
      },
      "execution_count": null,
      "outputs": []
    },
    {
      "cell_type": "markdown",
      "metadata": {
        "id": "TlxlcAC1a91C"
      },
      "source": [
        "### Part (b) [4 pt]\n",
        "\n",
        "Train your model. Plot the training curve of your final model.\n",
        "Your training curve should have the training/validation loss and\n",
        "accuracy plotted periodically.\n",
        "\n",
        "Note: Not all of your batches will have the same batch size.\n",
        "In particular, if your training set does not divide evenly by\n",
        "your batch size, there will be a batch that is smaller than\n",
        "the rest."
      ]
    },
    {
      "cell_type": "markdown",
      "source": [
        "Here is the training curve of my final model. It was obtained using Hyperparameter Set 4 which is described in Part (c). I chose this model as the best because it gave me the highest validation accuracy of `0.979`."
      ],
      "metadata": {
        "id": "BDS4tJNsGOhw"
      }
    },
    {
      "cell_type": "code",
      "source": [
        "model = RNN_hidden(100, 2)\n",
        "train_rnn_network(model, train_data, val_data, batch_size = 32, num_epochs=20, learning_rate=1e-4)"
      ],
      "metadata": {
        "colab": {
          "base_uri": "https://localhost:8080/",
          "height": 940
        },
        "outputId": "22319821-f853-4597-9abd-3a9138268a4e",
        "id": "VoFEhW8RGMOy"
      },
      "execution_count": null,
      "outputs": [
        {
          "output_type": "stream",
          "name": "stdout",
          "text": [
            "Epoch 1; Train Loss 0.7435335516929626; Train Acc 0.5297628917260819; Val Loss 0.673870861530304; Val Acc 0.15426008968609867\n",
            "Epoch 2; Train Loss 0.385085791349411; Train Acc 0.8322002984579672; Val Loss 0.6867537498474121; Val Acc 0.6887892376681615\n",
            "Epoch 3; Train Loss 0.4578331708908081; Train Acc 0.8962029514176754; Val Loss 0.3786284029483795; Val Acc 0.9461883408071748\n",
            "Epoch 4; Train Loss 0.2727833390235901; Train Acc 0.9384844967667053; Val Loss 0.44817766547203064; Val Acc 0.9219730941704036\n",
            "Epoch 5; Train Loss 0.18146400153636932; Train Acc 0.9291991377880948; Val Loss 0.2517603635787964; Val Acc 0.9533632286995516\n",
            "Epoch 6; Train Loss 0.05240238457918167; Train Acc 0.9532415851434256; Val Loss 0.37246936559677124; Val Acc 0.9363228699551569\n",
            "Epoch 7; Train Loss 0.12309063225984573; Train Acc 0.9527441551981429; Val Loss 0.14449335634708405; Val Acc 0.9533632286995516\n",
            "Epoch 8; Train Loss 0.14242567121982574; Train Acc 0.9540706350522301; Val Loss 0.20391632616519928; Val Acc 0.9345291479820628\n",
            "Epoch 9; Train Loss 0.1216287761926651; Train Acc 0.9610346542861881; Val Loss 0.16502898931503296; Val Acc 0.9479820627802691\n",
            "Epoch 10; Train Loss 0.14324963092803955; Train Acc 0.9631901840490797; Val Loss 0.15602286159992218; Val Acc 0.9560538116591928\n",
            "Epoch 11; Train Loss 0.19463521242141724; Train Acc 0.939147736693749; Val Loss 0.04715672880411148; Val Acc 0.9739910313901345\n",
            "Epoch 12; Train Loss 0.06156005710363388; Train Acc 0.9643508539214061; Val Loss 0.10408784449100494; Val Acc 0.9721973094170404\n",
            "Epoch 13; Train Loss 0.04244401678442955; Train Acc 0.9645166639031669; Val Loss 0.08977954834699631; Val Acc 0.967713004484305\n",
            "Epoch 14; Train Loss 0.01874495856463909; Train Acc 0.9641850439396452; Val Loss 0.05784665420651436; Val Acc 0.9748878923766816\n",
            "Epoch 15; Train Loss 0.07928509265184402; Train Acc 0.9583816945780136; Val Loss 0.18968349695205688; Val Acc 0.9210762331838565\n",
            "Epoch 16; Train Loss 0.21704021096229553; Train Acc 0.969490963355994; Val Loss 0.03464546799659729; Val Acc 0.9695067264573991\n",
            "Epoch 17; Train Loss 0.2649664580821991; Train Acc 0.9620295141767534; Val Loss 0.34857046604156494; Val Acc 0.9255605381165919\n",
            "Epoch 18; Train Loss 0.6748915910720825; Train Acc 0.9696567733377549; Val Loss 0.18197289109230042; Val Acc 0.9775784753363229\n",
            "Epoch 19; Train Loss 0.013492913916707039; Train Acc 0.9691593433924722; Val Loss 0.11376896500587463; Val Acc 0.9757847533632287\n",
            "Epoch 20; Train Loss 0.043772123754024506; Train Acc 0.9605372243409053; Val Loss 0.02382463589310646; Val Acc 0.979372197309417\n"
          ]
        },
        {
          "output_type": "display_data",
          "data": {
            "text/plain": [
              "<Figure size 432x288 with 1 Axes>"
            ],
            "image/png": "[encoded data removed]"
          },
          "metadata": {
            "needs_background": "light"
          }
        },
        {
          "output_type": "display_data",
          "data": {
            "text/plain": [
              "<Figure size 432x288 with 1 Axes>"
            ],
            "image/png": "[encoded data removed]"
          },
          "metadata": {
            "needs_background": "light"
          }
        }
      ]
    },
    {
      "cell_type": "markdown",
      "metadata": {
        "id": "fE3eRkDAa91F"
      },
      "source": [
        "### Part (c) [4 pt]\n",
        "\n",
        "Choose at least 4 hyperparameters to tune. Explain how you tuned the hyperparameters.\n",
        "You don't need to include your training curve for every model you trained.\n",
        "Instead, explain what hyperparemters you tuned, what the best validation accuracy was,\n",
        "and the reasoning behind the hyperparameter decisions you made.\n",
        "\n",
        "For this assignment, you should tune more than just your learning rate and epoch.\n",
        "Choose at least 2 hyperparameters that are unrelated to the optimizer."
      ]
    },
    {
      "cell_type": "markdown",
      "source": [
        "**Hyperparameter Set 1**\n",
        "\n",
        "For the first hyperparameter set I changed the model architecture. I used\n",
        "```\n",
        "out, _ = self.rnn(x)\n",
        "self.fc(out[:, -1, :])\n",
        "```\n",
        "at the output of the RNN.\n",
        "\n",
        "I used a batch size of 32, and a learning rate of `1e-4`. This gave good results as I obtained a validation accuracy as high as `0.96`. However, to do better, I will try max-pooling over the output array."
      ],
      "metadata": {
        "id": "UBec2lS82S6e"
      }
    },
    {
      "cell_type": "code",
      "execution_count": null,
      "metadata": {
        "collapsed": true,
        "id": "CVtf7CJCa91D",
        "jupyter": {
          "outputs_hidden": true
        }
      },
      "outputs": [],
      "source": [
        "model = RNN(50, 2)\n",
        "\n",
        "train_rnn_network(model, train_data, val_data, batch_size = 32, num_epochs=20, learning_rate=1e-4)"
      ]
    },
    {
      "cell_type": "markdown",
      "source": [
        "**Hyperparameter Set 2**\n",
        "\n"
      ],
      "metadata": {
        "id": "8AoWg2pq2XFK"
      }
    },
    {
      "cell_type": "markdown",
      "source": [
        "For this hyperparameter set I changed the model architecture. I used\n",
        "```\n",
        "out, _ = self.rnn(x)\n",
        "self.fc(torch.max(out, dim=1)[0])\n",
        "```\n",
        "at the output of the RNN.\n",
        "\n",
        "This gave me better results than hyperparameter set 1 as I obtained a validation accuracy as high as `0.973`. However, to see if I can do better I will try concatenating the\n",
        "max-pooling and average-pooling of the RNN outputs.\n",
        "\n"
      ],
      "metadata": {
        "id": "KglbZdwgDZ1V"
      }
    },
    {
      "cell_type": "code",
      "source": [
        "class RNN_pool(nn.Module):\n",
        "    def __init__(self, hidden_size, num_classes):\n",
        "        super(RNN_pool, self).__init__()\n",
        "        self.name = 'rnn_pool'\n",
        "        # construct matrix for onehot encodings\n",
        "        # its length must be the number of all possible characters\n",
        "        self.ident = torch.eye(len(text_field.vocab.itos))\n",
        "        self.hidden_size = hidden_size\n",
        "        self.rnn = nn.RNN(len(text_field.vocab.itos), hidden_size, batch_first=True)\n",
        "        self.fc = nn.Linear(hidden_size, num_classes)\n",
        "\n",
        "    def forward(self, x):\n",
        "        # Get onehot encoding of input\n",
        "        x = self.ident[x]\n",
        "        # Set an initial hidden state\n",
        "        h0 = torch.zeros(1, x.size(0), self.hidden_size)\n",
        "        # Forward propagate the RNN\n",
        "        out, _ = self.rnn(x)\n",
        "        out, _ = self.rnn(x)\n",
        "        out = self.fc(torch.max(out, dim=1)[0])\n",
        "        return out"
      ],
      "metadata": {
        "id": "47mdMc0K4FRE"
      },
      "execution_count": null,
      "outputs": []
    },
    {
      "cell_type": "code",
      "source": [
        "model = RNN_pool(50, 2)\n",
        "train_rnn_network(model, train_data, val_data, batch_size = 32, num_epochs=20, learning_rate=1e-4)"
      ],
      "metadata": {
        "id": "79RLMx4w4QEf"
      },
      "execution_count": null,
      "outputs": []
    },
    {
      "cell_type": "markdown",
      "source": [
        "**Hyperparameter Set 3**\n",
        "\n"
      ],
      "metadata": {
        "id": "PduGWE_f2XOy"
      }
    },
    {
      "cell_type": "markdown",
      "source": [
        "For this hyperparameter set I changed the model architecture. I used\n",
        "```\n",
        "out, _ = self.rnn(x)\n",
        "out = torch.cat([torch.max(out, dim=1)[0],\n",
        "                 torch.mean(out, dim=1)], dim=1)\n",
        "self.fc(out)\n",
        "```\n",
        "at the output of the RNN.\n",
        "\n",
        "This gave me the best results so far as I obtained a final validation accuracy of `0.978`."
      ],
      "metadata": {
        "id": "k22VvzJ6EG-F"
      }
    },
    {
      "cell_type": "code",
      "source": [
        "class RNN_concat(nn.Module):\n",
        "    def __init__(self, hidden_size, num_classes):\n",
        "        super(RNN_concat, self).__init__()\n",
        "        self.name = 'rnn_concat'\n",
        "        # construct matrix for onehot encodings\n",
        "        # its length must be the number of all possible characters\n",
        "        self.ident = torch.eye(len(text_field.vocab.itos))\n",
        "        self.hidden_size = hidden_size\n",
        "        self.rnn = nn.RNN(len(text_field.vocab.itos), hidden_size, batch_first=True)\n",
        "        self.fc = nn.Linear(hidden_size*2, num_classes)\n",
        "\n",
        "    def forward(self, x):\n",
        "        # Get onehot encoding of input\n",
        "        x = self.ident[x]\n",
        "        # Set an initial hidden state\n",
        "        h0 = torch.zeros(1, x.size(0), self.hidden_size)\n",
        "        # Forward propagate the RNN\n",
        "        out, _ = self.rnn(x)\n",
        "        out = torch.cat([torch.max(out, dim=1)[0],\n",
        "                 torch.mean(out, dim=1)], dim=1)\n",
        "        out = self.fc(out)\n",
        "        return out"
      ],
      "metadata": {
        "id": "wn6oTrFGxVdO"
      },
      "execution_count": null,
      "outputs": []
    },
    {
      "cell_type": "code",
      "source": [
        "model = RNN_concat(50, 2)\n",
        "train_rnn_network(model, train_data, val_data, batch_size = 32, num_epochs=20, learning_rate=1e-4)"
      ],
      "metadata": {
        "id": "csT5bLfkySKe"
      },
      "execution_count": null,
      "outputs": []
    },
    {
      "cell_type": "markdown",
      "source": [
        "**Hyperparameter Set 4**\n",
        "\n",
        "For this hyperparameter set I changed the model architecture to see if I can somehow improve. I increased `hidden_size` to 100.\n",
        "This did improve the validation accuracy as its final value is now `0.979`. Thus, I will choose this as my best model.\n",
        "\n",
        "It should be noted that I used the concatenated RNN architecture here as well.\n",
        "\n"
      ],
      "metadata": {
        "id": "FQBfp9Hj2W2p"
      }
    },
    {
      "cell_type": "code",
      "source": [
        "class RNN_hidden(nn.Module):\n",
        "    def __init__(self, hidden_size, num_classes):\n",
        "        super(RNN_hidden, self).__init__()\n",
        "        self.name = 'rnn_hidden'\n",
        "        # construct matrix for onehot encodings\n",
        "        # its length must be the number of all possible characters\n",
        "        self.ident = torch.eye(len(text_field.vocab.itos))\n",
        "        self.hidden_size = hidden_size\n",
        "        self.rnn = nn.RNN(len(text_field.vocab.itos), hidden_size, batch_first=True)\n",
        "        self.fc = nn.Linear(hidden_size*2, num_classes)\n",
        "\n",
        "    def forward(self, x):\n",
        "        # Get onehot encoding of input\n",
        "        x = self.ident[x]\n",
        "        # Set an initial hidden state\n",
        "        h0 = torch.zeros(1, x.size(0), self.hidden_size)\n",
        "        # Forward propagate the RNN\n",
        "        out, _ = self.rnn(x)\n",
        "        out = torch.cat([torch.max(out, dim=1)[0],\n",
        "                 torch.mean(out, dim=1)], dim=1)\n",
        "        out = self.fc(out)\n",
        "        return out"
      ],
      "metadata": {
        "id": "jur3G5fYE4_l"
      },
      "execution_count": null,
      "outputs": []
    },
    {
      "cell_type": "code",
      "source": [
        "model = RNN_hidden(100, 2)\n",
        "train_rnn_network(model, train_data, val_data, batch_size = 32, num_epochs=20, learning_rate=1e-4)"
      ],
      "metadata": {
        "id": "oIAA9JkCFEJN"
      },
      "execution_count": null,
      "outputs": []
    },
    {
      "cell_type": "markdown",
      "metadata": {
        "id": "v7DY56rKa91I"
      },
      "source": [
        "### Part (d) [2 pt]\n",
        "\n",
        "Before we deploy a machine learning model, we usually want to have a better understanding\n",
        "of how our model performs beyond its validation accuracy. An important metric to track is\n",
        "*how well our model performs in certain subsets of the data*.\n",
        "\n",
        "In particular, what is the model's error rate amongst data with negative labels?\n",
        "This is called the **false positive rate**.\n",
        "\n",
        "What about the model's error rate amongst data with positive labels?\n",
        "This is called the **false negative rate**.\n",
        "\n",
        "Report your final model's false positive and false negative rate across the\n",
        "validation set."
      ]
    },
    {
      "cell_type": "code",
      "source": [
        "# using model from hyperparameter set 4\n",
        "model_path = get_model_name('rnn_hidden', batch_size=32, learning_rate=1e-4, epoch=19)\n",
        "state = torch.load(model_path)\n",
        "model.load_state_dict(state)"
      ],
      "metadata": {
        "colab": {
          "base_uri": "https://localhost:8080/"
        },
        "id": "GAE8ebs8L_Hs",
        "outputId": "4487865d-efae-4604-8b7c-9478d46be698"
      },
      "execution_count": null,
      "outputs": [
        {
          "output_type": "execute_result",
          "data": {
            "text/plain": [
              "<All keys matched successfully>"
            ]
          },
          "metadata": {},
          "execution_count": 222
        }
      ]
    },
    {
      "cell_type": "code",
      "execution_count": null,
      "metadata": {
        "collapsed": true,
        "id": "7ggbQSdba91J",
        "jupyter": {
          "outputs_hidden": true
        },
        "colab": {
          "base_uri": "https://localhost:8080/"
        },
        "outputId": "18694f38-31df-4ce1-9b82-dc307d49a677"
      },
      "outputs": [
        {
          "output_type": "stream",
          "name": "stdout",
          "text": [
            "False positive rate across validation set: 1.0362694300518172 %\n",
            "False negative rate across validation set: 7.9999999999999964 %\n"
          ]
        }
      ],
      "source": [
        "# Create a Dataset of only spam validation examples\n",
        "valid_spam = data.Dataset(\n",
        "    [e for e in val_data.examples if e.label == 1],\n",
        "    val_data.fields)\n",
        "\n",
        "val_spam_iter = data.BucketIterator(valid_spam,\n",
        "                                           batch_size=32,\n",
        "                                           sort_key=lambda x: len(x.text), # to minimize padding\n",
        "                                           sort_within_batch=True,        # sort within each batch\n",
        "                                           repeat=False)                  # repeat the iterator for many epochs\n",
        "\n",
        "# Create a Dataset of only non-spam validation examples\n",
        "valid_nospam = data.Dataset(\n",
        "    [e for e in val_data.examples if e.label == 0],\n",
        "    val_data.fields)\n",
        "\n",
        "val_nospam_iter = data.BucketIterator(valid_nospam,\n",
        "                                           batch_size=32,\n",
        "                                           sort_key=lambda x: len(x.text), # to minimize padding\n",
        "                                           sort_within_batch=True,        # sort within each batch\n",
        "                                           repeat=False)                  # repeat the iterator for many epochs\n",
        "\n",
        "# number of false positives is the number of non-spam identified as spam\n",
        "# check for\n",
        "false_positive_rate = 1 - get_accuracy(model, val_nospam_iter)\n",
        "print('False positive rate across validation set: {} %'.format(false_positive_rate*100))\n",
        "\n",
        "# false negatives are spam identified as non-spam\n",
        "false_negative_rate = 1 - get_accuracy(model, val_spam_iter)\n",
        "print('False negative rate across validation set: {} %'.format(false_negative_rate*100))"
      ]
    },
    {
      "cell_type": "markdown",
      "metadata": {
        "id": "N1iRteb3a91O"
      },
      "source": [
        "### Part (e) [2 pt]\n",
        "\n",
        "The impact of a false positive vs a false negative can be drastically different.\n",
        "If our spam detection algorithm was deployed on your phone, what is the impact\n",
        "of a false positive on the phone's user? What is the impact of a false negative?"
      ]
    },
    {
      "cell_type": "markdown",
      "source": [
        "A false positive would mean that one of the user's non-spam messages, for example a message from a friend, would be identified as spam and probably deleted. This impact is not so bad as the friend would probably send another text or call the user. No harm comes to the user.\n",
        "\n",
        "A false negative would mean that a spam message would be identified as non-spam and thus may lead to the user being scammed/phished or harmed in some way. This has a big impact as the user is being harmed."
      ],
      "metadata": {
        "id": "eqbP149-NtHJ"
      }
    },
    {
      "cell_type": "markdown",
      "metadata": {
        "id": "Gznefulsa91V"
      },
      "source": [
        "## Part 4. Evaluation [11 pt]\n",
        "\n",
        "### Part (a) [1 pt]\n",
        "\n",
        "Report the final test accuracy of your model."
      ]
    },
    {
      "cell_type": "code",
      "execution_count": null,
      "metadata": {
        "collapsed": true,
        "id": "D5L5D-A1a91W",
        "jupyter": {
          "outputs_hidden": true
        },
        "colab": {
          "base_uri": "https://localhost:8080/"
        },
        "outputId": "90fbd2a5-e8d9-49c6-ffd8-31203d307400"
      },
      "outputs": [
        {
          "output_type": "stream",
          "name": "stdout",
          "text": [
            "Final test accuracy: 0.9784560143626571\n"
          ]
        }
      ],
      "source": [
        "# getting test data\n",
        "test_iter = data.BucketIterator(test_data,\n",
        "                                           batch_size=32,\n",
        "                                           sort_key=lambda x: len(x.text), # to minimize padding\n",
        "                                           sort_within_batch=True,        # sort within each batch\n",
        "                                           repeat=False)                  # repeat the iterator for many epochs\n",
        "\n",
        "# using model from hyperparameter set 4\n",
        "model_path = get_model_name('rnn_hidden', batch_size=32, learning_rate=1e-4, epoch=19)\n",
        "state = torch.load(model_path)\n",
        "model.load_state_dict(state)\n",
        "\n",
        "test_acc = get_accuracy(model, test_iter)\n",
        "print('Final test accuracy: {}'.format(test_acc))"
      ]
    },
    {
      "cell_type": "markdown",
      "metadata": {
        "id": "6Hjmd8rca91Y"
      },
      "source": [
        "### Part (b) [3 pt]\n",
        "\n",
        "Report the false positive rate and false negative rate of your model across the test set."
      ]
    },
    {
      "cell_type": "code",
      "execution_count": null,
      "metadata": {
        "collapsed": true,
        "id": "GFiAKztJa91Z",
        "jupyter": {
          "outputs_hidden": true
        },
        "colab": {
          "base_uri": "https://localhost:8080/"
        },
        "outputId": "d3076a0f-0bce-47f1-8ca2-41ab37b3ab7f"
      },
      "outputs": [
        {
          "output_type": "stream",
          "name": "stdout",
          "text": [
            "False positive rate across test set: 1.3471502590673534 %\n",
            "False negative rate across test set: 8.7248322147651 %\n"
          ]
        }
      ],
      "source": [
        "# Create a Dataset of only spam validation examples\n",
        "test_spam = data.Dataset(\n",
        "    [e for e in test_data.examples if e.label == 1],\n",
        "    test_data.fields)\n",
        "\n",
        "test_spam_iter = data.BucketIterator(test_spam,\n",
        "                                           batch_size=32,\n",
        "                                           sort_key=lambda x: len(x.text), # to minimize padding\n",
        "                                           sort_within_batch=True,        # sort within each batch\n",
        "                                           repeat=False)                  # repeat the iterator for many epochs\n",
        "\n",
        "# Create a Dataset of only non-spam validation examples\n",
        "test_nospam = data.Dataset(\n",
        "    [e for e in test_data.examples if e.label == 0],\n",
        "    test_data.fields)\n",
        "\n",
        "test_nospam_iter = data.BucketIterator(test_nospam,\n",
        "                                           batch_size=32,\n",
        "                                           sort_key=lambda x: len(x.text), # to minimize padding\n",
        "                                           sort_within_batch=True,        # sort within each batch\n",
        "                                           repeat=False)                  # repeat the iterator for many epochs\n",
        "\n",
        "# number of false positives is the number of non-spam identified as spam\n",
        "# check for\n",
        "false_positive_rate = 1 - get_accuracy(model, test_nospam_iter)\n",
        "print('False positive rate across test set: {} %'.format(false_positive_rate*100))\n",
        "\n",
        "# false negatives are spam identified as non-spam\n",
        "false_negative_rate = 1 - get_accuracy(model, test_spam_iter)\n",
        "print('False negative rate across test set: {} %'.format(false_negative_rate*100))"
      ]
    },
    {
      "cell_type": "markdown",
      "metadata": {
        "id": "0jGHtQFpa91b"
      },
      "source": [
        "### Part (c) [3 pt]\n",
        "\n",
        "What is your model's prediction of the **probability** that\n",
        "the SMS message \"machine learning is sooo cool!\" is spam?\n",
        "\n",
        "Hint: To begin, use `text_field.vocab.stoi` to look up the index\n",
        "of each character in the vocabulary."
      ]
    },
    {
      "cell_type": "code",
      "execution_count": null,
      "metadata": {
        "id": "h_2nSJq8a91b",
        "jupyter": {
          "outputs_hidden": true
        },
        "colab": {
          "base_uri": "https://localhost:8080/"
        },
        "outputId": "5cb5d95c-07c4-4071-80aa-697d6aa61dc1"
      },
      "outputs": [
        {
          "output_type": "stream",
          "name": "stdout",
          "text": [
            "The model predicts the message is spam with a probability of 2.8052587509155273 %\n"
          ]
        }
      ],
      "source": [
        "msg = \"machine learning is sooo cool!\"\n",
        "\n",
        "# using model from hyperparameter set 4\n",
        "model_path = get_model_name('rnn_hidden', batch_size=32, learning_rate=1e-4, epoch=19)\n",
        "state = torch.load(model_path)\n",
        "model.load_state_dict(state)\n",
        "\n",
        "# looking up the index of each character\n",
        "# vector to store the indices\n",
        "indices = []\n",
        "for letter in msg:\n",
        "  indices.append(text_field.vocab.stoi[letter])\n",
        "\n",
        "# converting to a tensor to pass to model\n",
        "indices_tensor = torch.tensor(indices)\n",
        "\n",
        "# adding a dimension to be compatible with model and obtaining prediction\n",
        "prediction = model(indices_tensor.unsqueeze(0))\n",
        "\n",
        "# obtaining the probabilities using softmax\n",
        "probability = F.softmax(prediction, dim=1)\n",
        "\n",
        "# obtaining the prediction of the probability of a spam message\n",
        "print('The model predicts the message is spam with a probability of {} %'.format(probability[0][1]*100))"
      ]
    },
    {
      "cell_type": "markdown",
      "metadata": {
        "id": "QD1zgYJpa91f"
      },
      "source": [
        "### Part (d) [4 pt]\n",
        "\n",
        "Do you think detecting spam is an easy or difficult task?\n",
        "\n",
        "Since machine learning models are expensive to train and deploy, it is very\n",
        "important to compare our models against baseline models: a simple\n",
        "model that is easy to build and inexpensive to run that we can compare our\n",
        "recurrent neural network model against.\n",
        "\n",
        "Explain how you might build a simple baseline model. This baseline model\n",
        "can be a simple neural network (with very few weights), a hand-written algorithm,\n",
        "or any other strategy that is easy to build and test.\n",
        "\n",
        "**Do not actually build a baseline model. Instead, provide instructions on\n",
        "how to build it.**"
      ]
    },
    {
      "cell_type": "markdown",
      "source": [
        "Detecting spam can sometimes be a difficult task. Some scammers have become very skilled and it sometimes hard to know if a message or email is spam or not.\n",
        "\n",
        "**Baseline model**\n",
        "\n",
        "You can use a rules-based algorithm for the baseline model.\n",
        "\n",
        "You can associate certain words/phrases with spam messages, such as \"Free money\" or \"Congrats you won $1000\". So once a message contains these words or phrases, the algorithm will automatically classify it as spam.\n",
        "\n",
        "First build a list of words/phrases (from your knowledge/internet) that, once included in a message, will identify the message as spam.\n",
        "\n",
        "The algorithm can first parse the message, looking for these key words/phrases.\n",
        "\n",
        "If the message includes such words/phrases, identify it as spam."
      ],
      "metadata": {
        "id": "pvsz87S6Ppbx"
      }
    }
  ],
  "metadata": {
    "colab": {
      "provenance": [],
      "include_colab_link": true
    },
    "kernelspec": {
      "display_name": "Python 3 (ipykernel)",
      "language": "python",
      "name": "python3"
    },
    "language_info": {
      "codemirror_mode": {
        "name": "ipython",
        "version": 3
      },
      "file_extension": ".py",
      "mimetype": "text/x-python",
      "name": "python",
      "nbconvert_exporter": "python",
      "pygments_lexer": "ipython3",
      "version": "3.9.4"
    }
  },
  "nbformat": 4,
  "nbformat_minor": 0
}