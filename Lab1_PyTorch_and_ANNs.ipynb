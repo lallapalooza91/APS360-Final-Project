{
  "cells": [
    {
      "cell_type": "markdown",
      "metadata": {
        "id": "view-in-github",
        "colab_type": "text"
      },
      "source": [
        "<a href=\"https://colab.research.google.com/github/lallapalooza91/APS360-Final-Project/blob/main/Lab1_PyTorch_and_ANNs.ipynb\" target=\"_parent\"><img src=\"https://colab.research.google.com/assets/colab-badge.svg\" alt=\"Open In Colab\"/></a>"
      ]
    },
    {
      "cell_type": "markdown",
      "metadata": {
        "id": "3sxa8YxCbzGL"
      },
      "source": [
        "# Lab 1. PyTorch and ANNs\n",
        "\n",
        "This lab is a warm up to get you used to the PyTorch programming environment used\n",
        "in the course, and also to help you review and renew your knowledge\n",
        "of Python and relevant Python libraries.\n",
        "The lab must be done individually. Please recall that the\n",
        "University of Toronto plagarism rules apply.\n",
        "\n",
        "By the end of this lab, you should be able to:\n",
        "\n",
        "1. Be able to perform basic PyTorch tensor operations.\n",
        "2. Be able to load data into PyTorch\n",
        "3. Be able to configure an Artificial Neural Network (ANN) using PyTorch\n",
        "4. Be able to train ANNs using PyTorch\n",
        "5. Be able to evaluate different ANN configuations\n",
        "\n",
        "You will need to use numpy and PyTorch documentations for this assignment:\n",
        "\n",
        "* https://docs.scipy.org/doc/numpy/reference/\n",
        "* https://pytorch.org/docs/stable/torch.html\n",
        "\n",
        "You can also reference Python API documentations freely.\n",
        "\n",
        "\n",
        "### What to submit\n",
        "\n",
        "Submit a PDF file containing all your code, outputs, and write-up\n",
        "from parts 1-5. You can produce a PDF of your Google Colab file by\n",
        "going to `File -> Print` and then save as PDF. The Colab instructions\n",
        "has more information.\n",
        "\n",
        "**Do not submit any other files produced by your code.**\n",
        "\n",
        "Include a link to your colab file in your submission.\n",
        "\n",
        "Please use Google Colab to complete this assignment. If you want to use Jupyter Notebook, please complete the assignment and upload your Jupyter Notebook file to Google Colab for submission.\n",
        "\n",
        "**Adjust the scaling to ensure that the text is not cutoff at the margins.**"
      ]
    },
    {
      "cell_type": "markdown",
      "metadata": {
        "id": "_TlLBrWBIGt0"
      },
      "source": [
        "## Colab Link\n",
        "\n",
        "Submit make sure to include a link to your colab file here\n",
        "\n",
        "Colab Link: https://colab.research.google.com/drive/1XRMK5oS9nL7JdM_7XFWJI1XVK04ja71P?usp=sharing"
      ]
    },
    {
      "cell_type": "markdown",
      "metadata": {
        "id": "mALD3Y2bbzGT"
      },
      "source": [
        "## Part 1. Python Basics [3 pt]\n",
        "\n",
        "The purpose of this section is to get you used to the\n",
        "basics of Python, including working with functions, numbers,\n",
        "lists, and strings.\n",
        "\n",
        "Note that we **will** be checking your code for clarity and efficiency.\n",
        "\n",
        "If you have trouble with this part of the assignment, please review http://cs231n.github.io/python-numpy-tutorial/"
      ]
    },
    {
      "cell_type": "markdown",
      "metadata": {
        "id": "7gimRTE9bzGa"
      },
      "source": [
        "### Part (a) -- 1pt\n",
        "\n",
        "Write a function `sum_of_cubes` that computes the sum of cubes up to `n`. If the input to `sum_of_cubes` invalid (e.g. negative or non-integer `n`), the function should print out `\"Invalid input\"` and return `-1`."
      ]
    },
    {
      "cell_type": "code",
      "execution_count": null,
      "metadata": {
        "collapsed": true,
        "id": "fifG_Wv6bzGf",
        "jupyter": {
          "outputs_hidden": true
        },
        "colab": {
          "base_uri": "https://localhost:8080/"
        },
        "outputId": "c5b3524c-cc8e-43e0-ead0-161712caebcb"
      },
      "outputs": [
        {
          "output_type": "stream",
          "name": "stdout",
          "text": [
            "Invalid input\n"
          ]
        },
        {
          "output_type": "execute_result",
          "data": {
            "text/plain": [
              "-1"
            ]
          },
          "metadata": {},
          "execution_count": 19
        }
      ],
      "source": [
        "def sum_of_cubes(n):\n",
        "    \"\"\"Return the sum (1^3 + 2^3 + 3^3 + ... + n^3)\n",
        "\n",
        "    Precondition: n > 0, type(n) == int\n",
        "\n",
        "    >>> sum_of_cubes(3)\n",
        "    36\n",
        "    >>> sum_of_cubes(1)\n",
        "    1\n",
        "    \"\"\"\n",
        "    if (n < 0 or type(n) != int): # checking for invalid input\n",
        "      print(\"Invalid input\")\n",
        "      return -1\n",
        "\n",
        "    # making a list to hold numbers 1 to n\n",
        "    numbers = [number for number in range(1,n+1)]\n",
        "    # initializing sum variable\n",
        "    sum = 0\n",
        "    # iterating through the numbers list, cubing each number and updating sum\n",
        "    for x in numbers:\n",
        "      sum += x**3\n",
        "    return sum"
      ]
    },
    {
      "cell_type": "markdown",
      "metadata": {
        "id": "bOxDP8AlbzG2"
      },
      "source": [
        "### Part (b) -- 1pt\n",
        "\n",
        "Write a function `word_lengths` that takes a sentence (string), computes the length of each word in that sentence, and returns the length of each word in a list. You can\n",
        "assume that words are always separated by a space character `\" \"`.\n",
        "\n",
        "Hint: recall the `str.split` function in Python.\n",
        "If you arenot sure how this function works, try\n",
        "typing `help(str.split)` into a Python shell, or check out https://docs.python.org/3.6/library/stdtypes.html#str.split"
      ]
    },
    {
      "cell_type": "code",
      "execution_count": null,
      "metadata": {
        "collapsed": true,
        "id": "H84jlGrVbzG5",
        "jupyter": {
          "outputs_hidden": true
        },
        "colab": {
          "base_uri": "https://localhost:8080/"
        },
        "outputId": "02cf2bf7-28fb-40dd-b3a0-cb9978aafced"
      },
      "outputs": [
        {
          "output_type": "stream",
          "name": "stdout",
          "text": [
            "Help on method_descriptor:\n",
            "\n",
            "split(self, /, sep=None, maxsplit=-1)\n",
            "    Return a list of the words in the string, using sep as the delimiter string.\n",
            "    \n",
            "    sep\n",
            "      The delimiter according which to split the string.\n",
            "      None (the default value) means split according to any whitespace,\n",
            "      and discard empty strings from the result.\n",
            "    maxsplit\n",
            "      Maximum number of splits to do.\n",
            "      -1 (the default value) means no limit.\n",
            "\n"
          ]
        }
      ],
      "source": [
        "help(str.split)"
      ]
    },
    {
      "cell_type": "code",
      "execution_count": null,
      "metadata": {
        "id": "w1lbnwgsbzHG",
        "jupyter": {
          "outputs_hidden": true
        },
        "colab": {
          "base_uri": "https://localhost:8080/"
        },
        "outputId": "f7035e46-421e-4ca8-b8fa-1bbf9331e5e7"
      },
      "outputs": [
        {
          "output_type": "execute_result",
          "data": {
            "text/plain": [
              "[0]"
            ]
          },
          "metadata": {},
          "execution_count": 5
        }
      ],
      "source": [
        "def word_lengths(sentence):\n",
        "    \"\"\"Return a list containing the length of each word in\n",
        "    sentence.\n",
        "\n",
        "    >>> word_lengths(\"welcome to APS360!\")\n",
        "    [7, 2, 7]\n",
        "    >>> word_lengths(\"machine learning is so cool\")\n",
        "    [7, 8, 2, 2, 4]\n",
        "    \"\"\"\n",
        "    # creating the list to be returned\n",
        "    lengths = []\n",
        "    # iterating through the string, picking out the words and finding their lengths\n",
        "    for word in sentence.split(' '):\n",
        "      lengths.append(len(word)) # append each word length to the lengths list\n",
        "    return lengths"
      ]
    },
    {
      "cell_type": "markdown",
      "metadata": {
        "id": "iCsnzu4NIGuD"
      },
      "source": [
        "### Part (c) -- 1pt\n",
        "\n",
        "Write a function `all_same_length` that takes a sentence (string),\n",
        "and checks whether every word in the string is the same length.\n",
        "You should call the function `word_lengths` in the body\n",
        "of this new function.\n"
      ]
    },
    {
      "cell_type": "code",
      "execution_count": null,
      "metadata": {
        "collapsed": true,
        "id": "Z-7qytZEIGuE",
        "jupyter": {
          "outputs_hidden": true
        },
        "colab": {
          "base_uri": "https://localhost:8080/"
        },
        "outputId": "39d98f12-e2c1-44cd-a3af-85310656918b"
      },
      "outputs": [
        {
          "output_type": "execute_result",
          "data": {
            "text/plain": [
              "False"
            ]
          },
          "metadata": {},
          "execution_count": 37
        }
      ],
      "source": [
        "def all_same_length(sentence):\n",
        "    \"\"\"Return True if every word in sentence has the same\n",
        "    length, and False otherwise.\n",
        "\n",
        "    >>> all_same_length(\"all same length\")\n",
        "    False\n",
        "    >>> word_lengths(\"hello world\")\n",
        "    True\n",
        "    \"\"\"\n",
        "    # creating a list with the words\n",
        "    words = sentence.split(' ')\n",
        "    # for each word in the words list, check if any other word does not have the same length\n",
        "    for i in words:\n",
        "      for j in words:\n",
        "        if (len(i) != len(j)): # if any word does not have the same length return False\n",
        "          return False\n",
        "    return True"
      ]
    },
    {
      "cell_type": "markdown",
      "metadata": {
        "id": "yUh1MySTbzHT"
      },
      "source": [
        "## Part 2. NumPy Exercises [5 pt]\n",
        "\n",
        "In this part of the assignment, you'll be manipulating arrays\n",
        "usign NumPy. Normally, we use the shorter name `np` to represent\n",
        "the package `numpy`."
      ]
    },
    {
      "cell_type": "code",
      "execution_count": null,
      "metadata": {
        "collapsed": true,
        "id": "H2opcxqMbzHW",
        "jupyter": {
          "outputs_hidden": true
        }
      },
      "outputs": [],
      "source": [
        "import numpy as np"
      ]
    },
    {
      "cell_type": "markdown",
      "metadata": {
        "id": "Ek29jdqPbzHf"
      },
      "source": [
        "### Part (a) -- 1pt\n",
        "\n",
        "The below variables `matrix` and `vector` are numpy arrays. Explain what you think `<NumpyArray>.size` and `<NumpyArray>.shape` represent."
      ]
    },
    {
      "cell_type": "code",
      "execution_count": null,
      "metadata": {
        "collapsed": true,
        "id": "Z6eniOV2bzHi",
        "jupyter": {
          "outputs_hidden": true
        }
      },
      "outputs": [],
      "source": [
        "matrix = np.array([[1., 2., 3., 0.5],\n",
        "                   [4., 5., 0., 0.],\n",
        "                   [-1., -2., 1., 1.]])\n",
        "vector = np.array([2., 0., 1., -2.])"
      ]
    },
    {
      "cell_type": "code",
      "execution_count": null,
      "metadata": {
        "collapsed": true,
        "id": "JMIy15dKIGuP",
        "jupyter": {
          "outputs_hidden": true
        },
        "colab": {
          "base_uri": "https://localhost:8080/"
        },
        "outputId": "78ed3ba5-1cd1-479c-89fe-477ce7711ab9"
      },
      "outputs": [
        {
          "output_type": "execute_result",
          "data": {
            "text/plain": [
              "12"
            ]
          },
          "metadata": {},
          "execution_count": 3
        }
      ],
      "source": [
        "matrix.size"
      ]
    },
    {
      "cell_type": "code",
      "execution_count": null,
      "metadata": {
        "collapsed": true,
        "id": "QoHaPzDNbzHo",
        "jupyter": {
          "outputs_hidden": true
        },
        "scrolled": true,
        "colab": {
          "base_uri": "https://localhost:8080/"
        },
        "outputId": "4498fb8d-4033-438a-b746-e2a4c0340b45"
      },
      "outputs": [
        {
          "output_type": "execute_result",
          "data": {
            "text/plain": [
              "(3, 4)"
            ]
          },
          "metadata": {},
          "execution_count": 4
        }
      ],
      "source": [
        "matrix.shape"
      ]
    },
    {
      "cell_type": "code",
      "execution_count": null,
      "metadata": {
        "collapsed": true,
        "id": "dErt6w25bzHu",
        "jupyter": {
          "outputs_hidden": true
        },
        "colab": {
          "base_uri": "https://localhost:8080/"
        },
        "outputId": "cd4ac6db-fb1d-4241-a1bd-9635f1794c26"
      },
      "outputs": [
        {
          "output_type": "execute_result",
          "data": {
            "text/plain": [
              "4"
            ]
          },
          "metadata": {},
          "execution_count": 5
        }
      ],
      "source": [
        "vector.size"
      ]
    },
    {
      "cell_type": "code",
      "execution_count": null,
      "metadata": {
        "collapsed": true,
        "id": "TXhHCchIIGua",
        "jupyter": {
          "outputs_hidden": true
        },
        "colab": {
          "base_uri": "https://localhost:8080/"
        },
        "outputId": "384ca343-600c-4df0-b4ff-eb306a5bac8b"
      },
      "outputs": [
        {
          "output_type": "execute_result",
          "data": {
            "text/plain": [
              "(4,)"
            ]
          },
          "metadata": {},
          "execution_count": 6
        }
      ],
      "source": [
        "vector.shape"
      ]
    },
    {
      "cell_type": "markdown",
      "source": [
        "## Answers\n",
        "`<NumpyArray>.size` represents the total number of elements in the numpy array\n",
        "\n",
        "`<NumpyArray>.shape` gives the lengths of the dimensions of the corresponding numpy array."
      ],
      "metadata": {
        "id": "NCkbjYiu9F6w"
      }
    },
    {
      "cell_type": "markdown",
      "metadata": {
        "id": "9PQ-pRIlbzH8"
      },
      "source": [
        "### Part (b) -- 1pt\n",
        "\n",
        "Perform matrix multiplication `output = matrix x vector` by using\n",
        "for loops to iterate through the columns and rows.\n",
        "Do not use any builtin NumPy functions.\n",
        "Cast your output into a NumPy array, if it isn't one already.\n",
        "\n",
        "Hint: be mindful of the dimension of output"
      ]
    },
    {
      "cell_type": "code",
      "execution_count": null,
      "metadata": {
        "collapsed": true,
        "id": "SXnZFii2bzH-",
        "jupyter": {
          "outputs_hidden": true
        }
      },
      "outputs": [],
      "source": [
        "# matrix multiplication: multiply each row by column\n",
        "# 3x4 * 4x1 gives 3x1\n",
        "# loop through outer array (matrix)\n",
        "output = []\n",
        "sum = 0\n",
        "for i in range(0, len(matrix)):\n",
        "  # now we need to loop through each row\n",
        "  for j in range(0, len(matrix[i])):\n",
        "    # matrix row is same length as vector\n",
        "    sum += matrix[i][j]*vector[j]\n",
        "  #add sum to the output array\n",
        "  output.append(sum)\n",
        "  #reset sum\n",
        "  sum = 0\n",
        "output = np.array(output)"
      ]
    },
    {
      "cell_type": "code",
      "execution_count": null,
      "metadata": {
        "collapsed": true,
        "id": "BiIVqVvvbzII",
        "jupyter": {
          "outputs_hidden": true
        },
        "colab": {
          "base_uri": "https://localhost:8080/"
        },
        "outputId": "6c5a7b2f-740d-4469-df4b-846b48eb5b09"
      },
      "outputs": [
        {
          "output_type": "execute_result",
          "data": {
            "text/plain": [
              "array([ 4.,  8., -3.])"
            ]
          },
          "metadata": {},
          "execution_count": 14
        }
      ],
      "source": [
        "output"
      ]
    },
    {
      "cell_type": "markdown",
      "metadata": {
        "id": "O5UhbilNbzIP"
      },
      "source": [
        "### Part (c) -- 1pt\n",
        "\n",
        "Perform matrix multiplication `output2 = matrix x vector` by using\n",
        "the function `numpy.dot`.\n",
        "\n",
        "We will never actually write code as in\n",
        "part(c), not only because `numpy.dot` is more concise and easier to read/write, but also performance-wise `numpy.dot` is much faster (it is written in C and highly optimized).\n",
        "In general, we will avoid for loops in our code."
      ]
    },
    {
      "cell_type": "code",
      "execution_count": null,
      "metadata": {
        "collapsed": true,
        "id": "e8dLVrMEbzIR",
        "jupyter": {
          "outputs_hidden": true
        }
      },
      "outputs": [],
      "source": [
        "output2 = np.dot(matrix, vector)"
      ]
    },
    {
      "cell_type": "code",
      "execution_count": null,
      "metadata": {
        "collapsed": true,
        "id": "X1LqY1eKbzIV",
        "jupyter": {
          "outputs_hidden": true
        },
        "colab": {
          "base_uri": "https://localhost:8080/"
        },
        "outputId": "1b615a7b-04bf-4b12-b0f5-4da66d29ae80"
      },
      "outputs": [
        {
          "output_type": "execute_result",
          "data": {
            "text/plain": [
              "array([ 4.,  8., -3.])"
            ]
          },
          "metadata": {},
          "execution_count": 16
        }
      ],
      "source": [
        "output2"
      ]
    },
    {
      "cell_type": "markdown",
      "metadata": {
        "id": "77XioX6vbzIb"
      },
      "source": [
        "### Part (d) -- 1pt\n",
        "\n",
        "As a way to test for consistency, show that the two outputs match."
      ]
    },
    {
      "cell_type": "code",
      "execution_count": null,
      "metadata": {
        "collapsed": true,
        "id": "1Vc-Nvf0bzIc",
        "jupyter": {
          "outputs_hidden": true
        },
        "colab": {
          "base_uri": "https://localhost:8080/"
        },
        "outputId": "41e88553-f6fc-43c1-da96-8334dd5d141e"
      },
      "outputs": [
        {
          "output_type": "stream",
          "name": "stdout",
          "text": [
            "The two outputs match\n"
          ]
        }
      ],
      "source": [
        "if((output == output2).all()):\n",
        "  print('The two outputs match')"
      ]
    },
    {
      "cell_type": "markdown",
      "metadata": {
        "id": "wjEGmk8oIGur"
      },
      "source": [
        "### Part (e) -- 1pt\n",
        "\n",
        "Show that using `np.dot` is faster than using your code from part (c).\n",
        "\n",
        "You may find the below code snippit helpful:"
      ]
    },
    {
      "cell_type": "code",
      "execution_count": null,
      "metadata": {
        "collapsed": true,
        "id": "XlnE0XO8IGur",
        "jupyter": {
          "outputs_hidden": true
        },
        "colab": {
          "base_uri": "https://localhost:8080/"
        },
        "outputId": "f20da6f2-5ee2-459a-fdeb-682e76df4a7d"
      },
      "outputs": [
        {
          "output_type": "stream",
          "name": "stdout",
          "text": [
            "0.0002818107604980469\n"
          ]
        }
      ],
      "source": [
        "import time\n",
        "\n",
        "# record the time before running code\n",
        "start_time = time.time()\n",
        "\n",
        "# place code to run here\n",
        "# method 1\n",
        "# matrix multiplication: multiply each row by column\n",
        "# 3x4 * 4x1 gives 3x1\n",
        "# loop through outer array (matrix)\n",
        "output = []\n",
        "sum = 0\n",
        "for i in range(0, len(matrix)):\n",
        "  # now we need to loop through each row\n",
        "  for j in range(0, len(matrix[i])):\n",
        "    # matrix row is same length as vector\n",
        "    sum += matrix[i][j]*vector[j]\n",
        "  #add sum to the output array\n",
        "  output.append(sum)\n",
        "  #reset sum\n",
        "  sum = 0\n",
        "output = np.array(output)\n",
        "\n",
        "# record the time after the code is run\n",
        "end_time = time.time()\n",
        "\n",
        "# compute the difference\n",
        "diff = end_time - start_time\n",
        "print(diff)"
      ]
    },
    {
      "cell_type": "code",
      "execution_count": null,
      "metadata": {
        "collapsed": true,
        "id": "0aBOgCJeIGuv",
        "jupyter": {
          "outputs_hidden": true
        },
        "colab": {
          "base_uri": "https://localhost:8080/"
        },
        "outputId": "d286f1ed-5728-48e9-bee8-7391fcae9826"
      },
      "outputs": [
        {
          "output_type": "stream",
          "name": "stdout",
          "text": [
            "0.00023651123046875\n",
            "np.dot is faster\n"
          ]
        }
      ],
      "source": [
        "import time\n",
        "\n",
        "# record the time before running code\n",
        "start_time = time.time()\n",
        "\n",
        "# place code to run here\n",
        "# using np.dot\n",
        "output2 = np.dot(matrix, vector)\n",
        "\n",
        "# record the time after the code is run\n",
        "end_time = time.time()\n",
        "\n",
        "# compute the difference\n",
        "diff_npdot = end_time - start_time\n",
        "print(diff_npdot)\n",
        "\n",
        "# check to show that np.dot is faster\n",
        "if(diff > diff_npdot):\n",
        "  print(\"np.dot is faster\")"
      ]
    },
    {
      "cell_type": "markdown",
      "metadata": {
        "id": "LbKJjoHHbzI4"
      },
      "source": [
        "## Part 3. Images [6 pt]\n",
        "\n",
        "A picture or image can be represented as a NumPy array of “pixels”,\n",
        "with dimensions H × W × C, where H is the height of the image, W is the width of the image,\n",
        "and C is the number of colour channels. Typically we will use an image with channels that give the the Red, Green, and Blue “level” of each pixel, which is referred to with the short form RGB.\n",
        "\n",
        "You will write Python code to load an image, and perform several array manipulations to the image and visualize their effects."
      ]
    },
    {
      "cell_type": "code",
      "execution_count": null,
      "metadata": {
        "collapsed": true,
        "id": "FRGQKpEgbzI4",
        "jupyter": {
          "outputs_hidden": true
        }
      },
      "outputs": [],
      "source": [
        "import matplotlib.pyplot as plt"
      ]
    },
    {
      "cell_type": "markdown",
      "metadata": {
        "id": "p1D5mtCubzI6"
      },
      "source": [
        "### Part (a) -- 1 pt\n",
        "\n",
        "This is a photograph of a dog whose name is Mochi.\n",
        "\n",
        "![alt text](https://drive.google.com/uc?export=view&id=1oaLVR2hr1_qzpKQ47i9rVUIklwbDcews)\n",
        "\n",
        "Load the image from its url (https://drive.google.com/uc?export=view&id=1oaLVR2hr1_qzpKQ47i9rVUIklwbDcews) into the variable `img` using the `plt.imread` function.\n",
        "\n",
        "Hint: You can enter the URL directly into the `plt.imread` function as a Python string."
      ]
    },
    {
      "cell_type": "code",
      "execution_count": null,
      "metadata": {
        "collapsed": true,
        "id": "RB8lf73vbzI7",
        "jupyter": {
          "outputs_hidden": true
        }
      },
      "outputs": [],
      "source": [
        "img = plt.imread(\"https://drive.google.com/uc?export=view&id=1oaLVR2hr1_qzpKQ47i9rVUIklwbDcews\")"
      ]
    },
    {
      "cell_type": "markdown",
      "metadata": {
        "id": "mNli5OsbbzI9"
      },
      "source": [
        "### Part (b) -- 1pt\n",
        "\n",
        "Use the function `plt.imshow` to visualize `img`.\n",
        "\n",
        "This function will also show the coordinate system used to identify pixels.\n",
        "The origin is at the top left corner, and the first dimension indicates the Y (row) direction,\n",
        "and the second dimension indicates the X (column) dimension."
      ]
    },
    {
      "cell_type": "code",
      "execution_count": null,
      "metadata": {
        "collapsed": true,
        "id": "lEeHKc_abzI9",
        "jupyter": {
          "outputs_hidden": true
        },
        "colab": {
          "base_uri": "https://localhost:8080/",
          "height": 287
        },
        "outputId": "866838b4-c768-4c00-b252-8352fa0885bb"
      },
      "outputs": [
        {
          "output_type": "execute_result",
          "data": {
            "text/plain": [
              "<matplotlib.image.AxesImage at 0x7f1e125145b0>"
            ]
          },
          "metadata": {},
          "execution_count": 11
        },
        {
          "output_type": "display_data",
          "data": {
            "text/plain": [
              "<Figure size 432x288 with 1 Axes>"
            ],
            "image/png": "[encoded data removed]"
          },
          "metadata": {
            "needs_background": "light"
          }
        }
      ],
      "source": [
        "plt.imshow(img)"
      ]
    },
    {
      "cell_type": "markdown",
      "metadata": {
        "id": "pB-Hx-OFbzJC"
      },
      "source": [
        "### Part (c) -- 2pt\n",
        "\n",
        "Modify the image by adding a constant value of 0.25 to each pixel in the `img` and\n",
        "store the result in the variable `img_add`. Note that, since the range for the pixels\n",
        "needs to be between [0, 1], you will also need to clip img_add to be in the range [0, 1]\n",
        "using `numpy.clip`. Clipping sets any value that is outside of the desired range to the\n",
        "closest endpoint. Display the image using `plt.imshow`."
      ]
    },
    {
      "cell_type": "code",
      "execution_count": null,
      "metadata": {
        "collapsed": true,
        "id": "GWBhZay2bzJC",
        "jupyter": {
          "outputs_hidden": true
        },
        "colab": {
          "base_uri": "https://localhost:8080/",
          "height": 287
        },
        "outputId": "24cdc2f6-178f-4a96-f30d-45d9a527753a"
      },
      "outputs": [
        {
          "output_type": "execute_result",
          "data": {
            "text/plain": [
              "<matplotlib.image.AxesImage at 0x7f1e124abf70>"
            ]
          },
          "metadata": {},
          "execution_count": 14
        },
        {
          "output_type": "display_data",
          "data": {
            "text/plain": [
              "<Figure size 432x288 with 1 Axes>"
            ],
            "image/png": "[encoded data removed]"
          },
          "metadata": {
            "needs_background": "light"
          }
        }
      ],
      "source": [
        "# adding 0.25 to each pixel, clipping and storing in img_add\n",
        "img_add = np.clip(img+0.25, 0, 1)\n",
        "# displaying\n",
        "plt.imshow(img_add)"
      ]
    },
    {
      "cell_type": "markdown",
      "metadata": {
        "id": "DeinKXBCbzJI"
      },
      "source": [
        "### Part (d) -- 2pt\n",
        "\n",
        "Crop the **original** image (`img` variable) to a 130 x 150 image including Mochi's face. Discard the alpha colour channel (i.e. resulting `img_cropped` should **only have RGB channels**)\n",
        "\n",
        "Display the image."
      ]
    },
    {
      "cell_type": "code",
      "source": [
        "# cropping img and discarding alpha\n",
        "img_cropped = img[:130, 20:170, :3]\n",
        "# displaying\n",
        "plt.imshow(img_cropped)"
      ],
      "metadata": {
        "id": "wRJ-eTr6CEqQ"
      },
      "execution_count": null,
      "outputs": []
    },
    {
      "cell_type": "markdown",
      "metadata": {
        "id": "FmfE9CQdIGva"
      },
      "source": [
        "## Part 4. Basics of PyTorch [6 pt]\n",
        "\n",
        "PyTorch is a Python-based neural networks package. Along with tensorflow, PyTorch is currently one of the most popular machine learning libraries.\n",
        "\n",
        "PyTorch, at its core, is similar to Numpy in a sense that they both\n",
        "try to make it easier to write codes for scientific computing\n",
        "achieve improved performance over vanilla Python by leveraging highly optimized C back-end.\n",
        "However, compare to Numpy, PyTorch offers much better GPU support and provides many high-level features for machine learning. Technically, Numpy can be used to perform almost every thing PyTorch does. However, Numpy would be a lot slower than PyTorch, especially with CUDA GPU, and it would take more effort to write machine learning related code compared to using PyTorch."
      ]
    },
    {
      "cell_type": "code",
      "execution_count": null,
      "metadata": {
        "collapsed": true,
        "id": "ppRPK-X2IGvb",
        "jupyter": {
          "outputs_hidden": true
        }
      },
      "outputs": [],
      "source": [
        "import torch"
      ]
    },
    {
      "cell_type": "markdown",
      "metadata": {
        "id": "DXrczIrSIGvf"
      },
      "source": [
        "### Part (a) -- 1 pt\n",
        "\n",
        "Use the function `torch.from_numpy` to convert the numpy array `img_cropped` into\n",
        "a PyTorch tensor. Save the result in a variable called `img_torch`."
      ]
    },
    {
      "cell_type": "code",
      "execution_count": null,
      "metadata": {
        "collapsed": true,
        "id": "j9rYyf4gIGvj",
        "jupyter": {
          "outputs_hidden": true
        }
      },
      "outputs": [],
      "source": [
        "# converting numpy array to tensor and saving\n",
        "img_torch = torch.from_numpy(img_cropped)"
      ]
    },
    {
      "cell_type": "markdown",
      "metadata": {
        "id": "zrpPeRKtIGvn"
      },
      "source": [
        "### Part (b) -- 1pt\n",
        "\n",
        "Use the method `<Tensor>.shape` to find the shape (dimension and size) of `img_torch`."
      ]
    },
    {
      "cell_type": "code",
      "execution_count": null,
      "metadata": {
        "collapsed": true,
        "id": "ws7G_aaxIGvn",
        "jupyter": {
          "outputs_hidden": true
        },
        "colab": {
          "base_uri": "https://localhost:8080/"
        },
        "outputId": "9d0a0523-3fba-470d-daa1-426180a08c29"
      },
      "outputs": [
        {
          "output_type": "execute_result",
          "data": {
            "text/plain": [
              "torch.Size([130, 150, 3])"
            ]
          },
          "metadata": {},
          "execution_count": 19
        }
      ],
      "source": [
        "# finding shape of img_torch using .shape\n",
        "img_torch.shape"
      ]
    },
    {
      "cell_type": "markdown",
      "metadata": {
        "id": "uorV8t1pIGvp"
      },
      "source": [
        "### Part (c) -- 1pt\n",
        "\n",
        "How many floating-point numbers are stored in the tensor `img_torch`?"
      ]
    },
    {
      "cell_type": "code",
      "execution_count": null,
      "metadata": {
        "collapsed": true,
        "id": "sucaE_VCIGvq",
        "jupyter": {
          "outputs_hidden": true
        },
        "colab": {
          "base_uri": "https://localhost:8080/"
        },
        "outputId": "516e8b32-c974-4fe9-99e9-3915d812de0a"
      },
      "outputs": [
        {
          "output_type": "execute_result",
          "data": {
            "text/plain": [
              "58500"
            ]
          },
          "metadata": {},
          "execution_count": 20
        }
      ],
      "source": [
        "# assuming all numbers in the tensor are floats\n",
        "# using .numel return the number of floats in img_torch\n",
        "torch.numel(img_torch)"
      ]
    },
    {
      "cell_type": "markdown",
      "source": [
        "#Answer\n",
        "\n",
        "There are `58500` floating-point numbers in the tensor."
      ],
      "metadata": {
        "id": "K-Wvs_i1HZ8A"
      }
    },
    {
      "cell_type": "markdown",
      "metadata": {
        "id": "sIcXGdg5IGvu"
      },
      "source": [
        "### Part (d) -- 1 pt\n",
        "\n",
        "What does the code `img_torch.transpose(0,2)` do? What does the expression return?\n",
        "Is the original variable `img_torch` updated? Explain."
      ]
    },
    {
      "cell_type": "code",
      "execution_count": null,
      "metadata": {
        "collapsed": true,
        "id": "omOJqIhEIGvu",
        "jupyter": {
          "outputs_hidden": true
        }
      },
      "outputs": [],
      "source": [
        "# printing transposed version\n",
        "print(img_torch.transpose(0,2))\n",
        "# printing dimension sizes of transposed version\n",
        "print(img_torch.transpose(0,2).shape)\n",
        "# printing original version. it remained the same\n",
        "print(img_torch)"
      ]
    },
    {
      "cell_type": "markdown",
      "source": [
        "# Answer\n",
        "`img_torch.transpose(0,2)` returns a copy of `img_torch` with the dimensions 0 and 2 swapped.\n",
        "\n",
        "`img_torch` is not updated because `img_torch.transpose(0,2)` returns a separate tensor, after making a copy of `img_torch`."
      ],
      "metadata": {
        "id": "crhyHga5IHJQ"
      }
    },
    {
      "cell_type": "markdown",
      "metadata": {
        "id": "lHrzC0EqIGvx"
      },
      "source": [
        "### Part (e) -- 1 pt\n",
        "\n",
        "What does the code `img_torch.unsqueeze(0)` do? What does the expression return?\n",
        "Is the original variable `img_torch` updated? Explain."
      ]
    },
    {
      "cell_type": "code",
      "execution_count": null,
      "metadata": {
        "collapsed": true,
        "id": "ZFePj7E5IGvz",
        "jupyter": {
          "outputs_hidden": true
        }
      },
      "outputs": [],
      "source": [
        "# printing the new tensor\n",
        "print(img_torch.unsqueeze(0))\n",
        "# checking the new shape\n",
        "print(img_torch.unsqueeze(0).shape)\n",
        "# checking to see if img_torch is updated\n",
        "print(img_torch)"
      ]
    },
    {
      "cell_type": "markdown",
      "source": [
        "# Answers:\n",
        "`img_torch.unsqueeze(0)` turns `img_torch` from a 3d tensor to a 4d tensor, adding an extra dimension of depth 1 at the 0th position.\n",
        "\n",
        "The original variable `img_torch` is not updated."
      ],
      "metadata": {
        "id": "BhAgKjU32CQN"
      }
    },
    {
      "cell_type": "markdown",
      "metadata": {
        "id": "re16jTB9IGv0"
      },
      "source": [
        "### Part (f) -- 1 pt\n",
        "\n",
        "Find the maximum value of `img_torch` along each colour channel? Your output should be a one-dimensional\n",
        "PyTorch tensor with exactly three values.\n",
        "\n",
        "Hint: lookup the function `torch.max`."
      ]
    },
    {
      "cell_type": "code",
      "source": [
        "# to find the max rgb, find the max along each column of img_torch\n",
        "# used torch.max to first reduce the dimension to 2D\n",
        "# here found the max along dimension 1\n",
        "first_reduction = torch.max(img_torch,1).values\n",
        "# then used torch.max again to reduce the dimension to 1D\n",
        "# here found the max along dimension 0\n",
        "maximum_rgb = torch.max(first_reduction, 0).values\n",
        "print(maximum_rgb)"
      ],
      "metadata": {
        "colab": {
          "base_uri": "https://localhost:8080/"
        },
        "id": "CzkSYfWE0xZd",
        "outputId": "68bfa2a5-3f41-40ae-f7a5-f9da98406f4a"
      },
      "execution_count": null,
      "outputs": [
        {
          "output_type": "stream",
          "name": "stdout",
          "text": [
            "tensor([0.8941, 0.7882, 0.6745])\n"
          ]
        }
      ]
    },
    {
      "cell_type": "markdown",
      "metadata": {
        "id": "3hhA2sX0au0D"
      },
      "source": [
        "## Part 5. Training an ANN [10 pt]\n",
        "\n",
        "The sample code provided below is a 2-layer ANN trained on the MNIST dataset to identify digits less than 3 or greater than and equal to 3. Modify the code by changing any of the following and observe how the accuracy and error are affected:\n",
        "\n",
        "- number of training iterations\n",
        "- number of hidden units\n",
        "- numbers of layers\n",
        "- types of activation functions\n",
        "- learning rate\n",
        "\n",
        "Please select at least three different options from the list above. For each option, please select two to three different parameters and provide a table.\n"
      ]
    },
    {
      "cell_type": "markdown",
      "source": [
        "# 1. Unmodified code"
      ],
      "metadata": {
        "id": "JHa5UUJ7XnR0"
      }
    },
    {
      "cell_type": "code",
      "execution_count": null,
      "metadata": {
        "collapsed": true,
        "id": "GGtthiz1tDh5",
        "jupyter": {
          "outputs_hidden": true
        }
      },
      "outputs": [],
      "source": [
        "import torch\n",
        "import torch.nn as nn\n",
        "import torch.nn.functional as F\n",
        "from torchvision import datasets, transforms\n",
        "import matplotlib.pyplot as plt # for plotting\n",
        "import torch.optim as optim\n",
        "\n",
        "torch.manual_seed(1) # set the random seed\n",
        "\n",
        "# define a 2-layer artificial neural network\n",
        "class Pigeon(nn.Module):\n",
        "    def __init__(self):\n",
        "        super(Pigeon, self).__init__()\n",
        "        self.layer1 = nn.Linear(28 * 28, 30)\n",
        "        self.layer2 = nn.Linear(30, 1)\n",
        "    def forward(self, img):\n",
        "        flattened = img.view(-1, 28 * 28)\n",
        "        activation1 = self.layer1(flattened)\n",
        "        activation1 = F.relu(activation1)\n",
        "        activation2 = self.layer2(activation1)\n",
        "        return activation2\n",
        "\n",
        "pigeon = Pigeon()\n",
        "\n",
        "# load the data\n",
        "mnist_data = datasets.MNIST('data', train=True, download=True)\n",
        "mnist_data = list(mnist_data)\n",
        "\n",
        "mnist_train = mnist_data[:1000]\n",
        "mnist_val   = mnist_data[1000:2000]\n",
        "img_to_tensor = transforms.ToTensor()\n",
        "\n",
        "\n",
        "# simplified training code to train `pigeon` on the \"small digit recognition\" task\n",
        "criterion = nn.BCEWithLogitsLoss()\n",
        "optimizer = optim.SGD(pigeon.parameters(), lr=0.005, momentum=0.9)\n",
        "\n",
        "for (image, label) in mnist_train:\n",
        "    # actual ground truth: is the digit less than 3?\n",
        "    actual = torch.tensor(label < 3).reshape([1,1]).type(torch.FloatTensor)\n",
        "    # pigeon prediction\n",
        "    out = pigeon(img_to_tensor(image)) # step 1-2\n",
        "    # update the parameters based on the loss\n",
        "    loss = criterion(out, actual)      # step 3\n",
        "    loss.backward()                    # step 4 (compute the updates for each parameter)\n",
        "    optimizer.step()                   # step 4 (make the updates for each parameter)\n",
        "    optimizer.zero_grad()              # a clean up step for PyTorch\n",
        "\n",
        "\n",
        "# computing the error and accuracy on the training set\n",
        "error = 0\n",
        "for (image, label) in mnist_train:\n",
        "    prob = torch.sigmoid(pigeon(img_to_tensor(image)))\n",
        "    if (prob < 0.5 and label < 3) or (prob >= 0.5 and label >= 3):\n",
        "        error += 1\n",
        "print(\"Training Error Rate:\", error/len(mnist_train))\n",
        "print(\"Training Accuracy:\", 1 - error/len(mnist_train))\n",
        "\n",
        "\n",
        "# computing the error and accuracy on a test set\n",
        "error = 0\n",
        "for (image, label) in mnist_val:\n",
        "    prob = torch.sigmoid(pigeon(img_to_tensor(image)))\n",
        "    if (prob < 0.5 and label < 3) or (prob >= 0.5 and label >= 3):\n",
        "        error += 1\n",
        "print(\"Test Error Rate:\", error/len(mnist_val))\n",
        "print(\"Test Accuracy:\", 1 - error/len(mnist_val))"
      ]
    },
    {
      "cell_type": "markdown",
      "source": [
        "# 1. Code for changing the number of training iterations"
      ],
      "metadata": {
        "id": "QC0nuF3FZaQO"
      }
    },
    {
      "cell_type": "code",
      "execution_count": null,
      "metadata": {
        "collapsed": true,
        "jupyter": {
          "outputs_hidden": true
        },
        "colab": {
          "base_uri": "https://localhost:8080/"
        },
        "outputId": "f90456b5-d89d-4630-d119-39bf329c3bf2",
        "id": "A8gFFJCXZOmo"
      },
      "outputs": [
        {
          "output_type": "stream",
          "name": "stdout",
          "text": [
            "Training Error Rate: 0.01\n",
            "Training Accuracy: 0.99\n",
            "Test Error Rate: 0.071\n",
            "Test Accuracy: 0.929\n"
          ]
        }
      ],
      "source": [
        "import torch\n",
        "import torch.nn as nn\n",
        "import torch.nn.functional as F\n",
        "from torchvision import datasets, transforms\n",
        "import matplotlib.pyplot as plt # for plotting\n",
        "import torch.optim as optim\n",
        "\n",
        "torch.manual_seed(1) # set the random seed\n",
        "\n",
        "# define a 2-layer artificial neural network\n",
        "class Pigeon(nn.Module):\n",
        "    def __init__(self):\n",
        "        super(Pigeon, self).__init__()\n",
        "        self.layer1 = nn.Linear(28 * 28, 30)\n",
        "        self.layer2 = nn.Linear(30, 1)\n",
        "    def forward(self, img):\n",
        "        flattened = img.view(-1, 28 * 28)\n",
        "        activation1 = self.layer1(flattened)\n",
        "        activation1 = F.relu(activation1)\n",
        "        activation2 = self.layer2(activation1)\n",
        "        return activation2\n",
        "\n",
        "pigeon = Pigeon()\n",
        "\n",
        "# load the data\n",
        "mnist_data = datasets.MNIST('data', train=True, download=True)\n",
        "mnist_data = list(mnist_data)\n",
        "mnist_train = mnist_data[:1000]\n",
        "mnist_val   = mnist_data[1000:2000]\n",
        "img_to_tensor = transforms.ToTensor()\n",
        "\n",
        "\n",
        "# simplified training code to train `pigeon` on the \"small digit recognition\" task\n",
        "criterion = nn.BCEWithLogitsLoss()\n",
        "optimizer = optim.SGD(pigeon.parameters(), lr=0.005, momentum=0.9)\n",
        "\n",
        "# MODIFIED CODE ....\n",
        "# included for loop to run the training 4 times (in this case) and also 3 times\n",
        "# in this case highest accuracy for training data was achieved\n",
        "for i in range(0,4):\n",
        "  for (image, label) in mnist_train:\n",
        "      # actual ground truth: is the digit less than 3?\n",
        "      actual = torch.tensor(label < 3).reshape([1,1]).type(torch.FloatTensor)\n",
        "      # pigeon prediction\n",
        "      out = pigeon(img_to_tensor(image)) # step 1-2\n",
        "      # update the parameters based on the loss\n",
        "      loss = criterion(out, actual)      # step 3\n",
        "      loss.backward()                    # step 4 (compute the updates for each parameter)\n",
        "      optimizer.step()                   # step 4 (make the updates for each parameter)\n",
        "      optimizer.zero_grad()              # a clean up step for PyTorch\n",
        "\n",
        "\n",
        "# computing the error and accuracy on the training set\n",
        "error = 0\n",
        "for (image, label) in mnist_train:\n",
        "    prob = torch.sigmoid(pigeon(img_to_tensor(image)))\n",
        "    if (prob < 0.5 and label < 3) or (prob >= 0.5 and label >= 3):\n",
        "        error += 1\n",
        "print(\"Training Error Rate:\", error/len(mnist_train))\n",
        "print(\"Training Accuracy:\", 1 - error/len(mnist_train))\n",
        "\n",
        "\n",
        "# computing the error and accuracy on a test set\n",
        "error = 0\n",
        "for (image, label) in mnist_val:\n",
        "    prob = torch.sigmoid(pigeon(img_to_tensor(image)))\n",
        "    if (prob < 0.5 and label < 3) or (prob >= 0.5 and label >= 3):\n",
        "        error += 1\n",
        "print(\"Test Error Rate:\", error/len(mnist_val))\n",
        "print(\"Test Accuracy:\", 1 - error/len(mnist_val))"
      ]
    },
    {
      "cell_type": "markdown",
      "source": [
        "# 2. Code for changing the activation function"
      ],
      "metadata": {
        "id": "6mamwjOlZ5JE"
      }
    },
    {
      "cell_type": "code",
      "source": [
        "import torch\n",
        "import torch.nn as nn\n",
        "import torch.nn.functional as F\n",
        "from torchvision import datasets, transforms\n",
        "import matplotlib.pyplot as plt # for plotting\n",
        "import torch.optim as optim\n",
        "\n",
        "torch.manual_seed(1) # set the random seed\n",
        "\n",
        "# define a 2-layer artificial neural network\n",
        "class Pigeon(nn.Module):\n",
        "    def __init__(self):\n",
        "        super(Pigeon, self).__init__()\n",
        "        self.layer1 = nn.Linear(28 * 28, 30)\n",
        "        self.layer2 = nn.Linear(30, 1)\n",
        "    def forward(self, img):\n",
        "        flattened = img.view(-1, 28 * 28)\n",
        "        activation1 = self.layer1(flattened)\n",
        "# MODIFIED CODE...\n",
        "# changed activation function from F.relu to F.silu to F.softplus\n",
        "        activation1 = F.softplus(activation1)\n",
        "        activation2 = self.layer2(activation1)\n",
        "        return activation2\n",
        "\n",
        "pigeon = Pigeon()\n",
        "\n",
        "# load the data\n",
        "mnist_data = datasets.MNIST('data', train=True, download=True)\n",
        "mnist_data = list(mnist_data)\n",
        "mnist_train = mnist_data[:1000]\n",
        "mnist_val   = mnist_data[1000:2000]\n",
        "img_to_tensor = transforms.ToTensor()\n",
        "\n",
        "\n",
        "# simplified training code to train `pigeon` on the \"small digit recognition\" task\n",
        "criterion = nn.BCEWithLogitsLoss()\n",
        "optimizer = optim.SGD(pigeon.parameters(), lr=0.005, momentum=0.9)\n",
        "\n",
        "for (image, label) in mnist_train:\n",
        "    # actual ground truth: is the digit less than 3?\n",
        "    actual = torch.tensor(label < 3).reshape([1,1]).type(torch.FloatTensor)\n",
        "    # pigeon prediction\n",
        "    out = pigeon(img_to_tensor(image)) # step 1-2\n",
        "    # update the parameters based on the loss\n",
        "    loss = criterion(out, actual)      # step 3\n",
        "    loss.backward()                    # step 4 (compute the updates for each parameter)\n",
        "    optimizer.step()                   # step 4 (make the updates for each parameter)\n",
        "    optimizer.zero_grad()              # a clean up step for PyTorch\n",
        "\n",
        "\n",
        "# computing the error and accuracy on the training set\n",
        "error = 0\n",
        "for (image, label) in mnist_train:\n",
        "    prob = torch.sigmoid(pigeon(img_to_tensor(image)))\n",
        "    if (prob < 0.5 and label < 3) or (prob >= 0.5 and label >= 3):\n",
        "        error += 1\n",
        "print(\"Training Error Rate:\", error/len(mnist_train))\n",
        "print(\"Training Accuracy:\", 1 - error/len(mnist_train))\n",
        "\n",
        "\n",
        "# computing the error and accuracy on a test set\n",
        "error = 0\n",
        "for (image, label) in mnist_val:\n",
        "    prob = torch.sigmoid(pigeon(img_to_tensor(image)))\n",
        "    if (prob < 0.5 and label < 3) or (prob >= 0.5 and label >= 3):\n",
        "        error += 1\n",
        "print(\"Test Error Rate:\", error/len(mnist_val))\n",
        "print(\"Test Accuracy:\", 1 - error/len(mnist_val))"
      ],
      "metadata": {
        "id": "wWQwrYgGZ5go",
        "colab": {
          "base_uri": "https://localhost:8080/"
        },
        "outputId": "0b311ae3-8b94-40ea-c074-0d4697256b57"
      },
      "execution_count": null,
      "outputs": [
        {
          "output_type": "stream",
          "name": "stdout",
          "text": [
            "Training Error Rate: 0.056\n",
            "Training Accuracy: 0.944\n",
            "Test Error Rate: 0.116\n",
            "Test Accuracy: 0.884\n"
          ]
        }
      ]
    },
    {
      "cell_type": "markdown",
      "source": [
        "# 3. Code for changing the learning rate"
      ],
      "metadata": {
        "id": "vX2ycV1DZd8D"
      }
    },
    {
      "cell_type": "code",
      "source": [
        "import torch\n",
        "import torch.nn as nn\n",
        "import torch.nn.functional as F\n",
        "from torchvision import datasets, transforms\n",
        "import matplotlib.pyplot as plt # for plotting\n",
        "import torch.optim as optim\n",
        "\n",
        "torch.manual_seed(1) # set the random seed\n",
        "\n",
        "# define a 2-layer artificial neural network\n",
        "class Pigeon(nn.Module):\n",
        "    def __init__(self):\n",
        "        super(Pigeon, self).__init__()\n",
        "        self.layer1 = nn.Linear(28 * 28, 30)\n",
        "        self.layer2 = nn.Linear(30, 1)\n",
        "    def forward(self, img):\n",
        "        flattened = img.view(-1, 28 * 28)\n",
        "        activation1 = self.layer1(flattened)\n",
        "        activation1 = F.relu(activation1)\n",
        "        activation2 = self.layer2(activation1)\n",
        "        return activation2\n",
        "\n",
        "pigeon = Pigeon()\n",
        "\n",
        "# load the data\n",
        "mnist_data = datasets.MNIST('data', train=True, download=True)\n",
        "mnist_data = list(mnist_data)\n",
        "mnist_train = mnist_data[:1000]\n",
        "mnist_val   = mnist_data[1000:2000]\n",
        "img_to_tensor = transforms.ToTensor()\n",
        "\n",
        "\n",
        "# simplified training code to train `pigeon` on the \"small digit recognition\" task\n",
        "criterion = nn.BCEWithLogitsLoss()\n",
        "# MODIFIED CODE...\n",
        "# increased the learning rate to 0.0052\n",
        "optimizer = optim.SGD(pigeon.parameters(), lr=0.0052, momentum=0.9)\n",
        "\n",
        "for (image, label) in mnist_train:\n",
        "    # actual ground truth: is the digit less than 3?\n",
        "    actual = torch.tensor(label < 3).reshape([1,1]).type(torch.FloatTensor)\n",
        "    # pigeon prediction\n",
        "    out = pigeon(img_to_tensor(image)) # step 1-2\n",
        "    # update the parameters based on the loss\n",
        "    loss = criterion(out, actual)      # step 3\n",
        "    loss.backward()                    # step 4 (compute the updates for each parameter)\n",
        "    optimizer.step()                   # step 4 (make the updates for each parameter)\n",
        "    optimizer.zero_grad()              # a clean up step for PyTorch\n",
        "\n",
        "\n",
        "# computing the error and accuracy on the training set\n",
        "error = 0\n",
        "for (image, label) in mnist_train:\n",
        "    prob = torch.sigmoid(pigeon(img_to_tensor(image)))\n",
        "    if (prob < 0.5 and label < 3) or (prob >= 0.5 and label >= 3):\n",
        "        error += 1\n",
        "print(\"Training Error Rate:\", error/len(mnist_train))\n",
        "print(\"Training Accuracy:\", 1 - error/len(mnist_train))\n",
        "\n",
        "\n",
        "# computing the error and accuracy on a test set\n",
        "error = 0\n",
        "for (image, label) in mnist_val:\n",
        "    prob = torch.sigmoid(pigeon(img_to_tensor(image)))\n",
        "    if (prob < 0.5 and label < 3) or (prob >= 0.5 and label >= 3):\n",
        "        error += 1\n",
        "print(\"Test Error Rate:\", error/len(mnist_val))\n",
        "print(\"Test Accuracy:\", 1 - error/len(mnist_val))"
      ],
      "metadata": {
        "colab": {
          "base_uri": "https://localhost:8080/"
        },
        "id": "fqYWyQrzZiys",
        "outputId": "10e8e32a-7586-46c9-ff2b-800d789f8f29"
      },
      "execution_count": null,
      "outputs": [
        {
          "output_type": "stream",
          "name": "stdout",
          "text": [
            "Training Error Rate: 0.031\n",
            "Training Accuracy: 0.969\n",
            "Test Error Rate: 0.073\n",
            "Test Accuracy: 0.927\n"
          ]
        }
      ]
    },
    {
      "cell_type": "markdown",
      "source": [
        "# Answers\n",
        "\n",
        "<table>\n",
        "  <tr>\n",
        "    <th></th>\n",
        "    <th colspan=\"3\">Number of training iterations</th>\n",
        "    <th colspan=\"3\">Activation function</th>\n",
        "    <th colspan=\"3\">Learning rate</th>\n",
        "  </tr>\n",
        "  <tr>\n",
        "    <td></td>\n",
        "    <td>1</td>\n",
        "    <td>3</td>\n",
        "    <td>4</td>\n",
        "    <td>relu</td>\n",
        "    <td>silu</td>\n",
        "    <td>softplus</td>\n",
        "    <td>0.005</td>\n",
        "    <td>0.0052</td>\n",
        "  </tr>\n",
        "  <tr>\n",
        "    <td>Training error rate</td>\n",
        "    <td>0.036</td>\n",
        "    <td>0.014</td>\n",
        "    <td>0.01</td>\n",
        "    <td>0.036</td>\n",
        "    <td>0.04</td>\n",
        "    <td>0.056</td>\n",
        "    <td>0.036</td>\n",
        "    <td>0.031</td>\n",
        "  </tr>\n",
        "  <tr>\n",
        "    <td>Training accuracy</td>\n",
        "    <td>0.964</td>\n",
        "    <td>0.986</td>\n",
        "    <td>0.99</td>\n",
        "    <td>0.964</td>\n",
        "    <td>0.96</td>\n",
        "    <td>0.944</td>\n",
        "    <td>0.964</td>\n",
        "    <td>0.969</td>\n",
        "  </tr>\n",
        "  <tr>\n",
        "    <td>Testing error rate</td>\n",
        "    <td>0.079</td>\n",
        "    <td>0.069</td>\n",
        "    <td>0.074</td>\n",
        "    <td>0.079</td>\n",
        "    <td>0.085</td>\n",
        "    <td>0.116</td>\n",
        "    <td>0.079</td>\n",
        "    <td>0.073</td>\n",
        "  </tr>\n",
        "  <tr>\n",
        "    <td>Testing accuracy</td>\n",
        "    <td>0.921</td>\n",
        "    <td>0.931</td>\n",
        "    <td>0.929</td>\n",
        "    <td>0.921</td>\n",
        "    <td>0.915</td>\n",
        "    <td>0.884</td>\n",
        "    <td>0.921</td>\n",
        "    <td>0.927</td>\n",
        "  </tr>\n",
        "</table>"
      ],
      "metadata": {
        "id": "-8ZquOzYHkU7"
      }
    },
    {
      "cell_type": "markdown",
      "metadata": {
        "id": "viYKlFupcgF3"
      },
      "source": [
        "### Part (a) -- 3 pt\n",
        "Comment on which of the above changes resulted in the best accuracy on training data? What accuracy were you able to achieve?"
      ]
    },
    {
      "cell_type": "markdown",
      "source": [
        "Increasing the number of training iterations to 4 resulted in the best accuracy on the training data (0.99)."
      ],
      "metadata": {
        "id": "ppzfzpl7R1U4"
      }
    },
    {
      "cell_type": "markdown",
      "metadata": {
        "id": "pi6bWs7jcIem"
      },
      "source": [
        "### Part (b) -- 3 pt\n",
        "\n",
        "\n",
        "Comment on which of the above changes resulted in the best accuracy on testing data? What accuracy were you able to achieve?"
      ]
    },
    {
      "cell_type": "markdown",
      "source": [
        "Increasing the number of training iterations to 2 resulted in the best accuracy on the testing data (0.931)."
      ],
      "metadata": {
        "id": "Erb1fiaIpdvy"
      }
    },
    {
      "cell_type": "markdown",
      "metadata": {
        "id": "j7W2k347wFqo"
      },
      "source": [
        "### Part (c) -- 4 pt\n",
        "Which model hyperparameters should you use, the ones from (a) or (b)?"
      ]
    },
    {
      "cell_type": "markdown",
      "source": [
        "The model hyperparameters from Part (b) should be used because achieving a high accuracy on the training data could mean that the model is overfitting to the training data and will not perform as well on totally new data that it has not seen.\n",
        "\n"
      ],
      "metadata": {
        "id": "bcn0Cw8-YSXD"
      }
    }
  ],
  "metadata": {
    "colab": {
      "provenance": [],
      "include_colab_link": true
    },
    "kernelspec": {
      "display_name": "Python 3 (ipykernel)",
      "language": "python",
      "name": "python3"
    },
    "language_info": {
      "codemirror_mode": {
        "name": "ipython",
        "version": 3
      },
      "file_extension": ".py",
      "mimetype": "text/x-python",
      "name": "python",
      "nbconvert_exporter": "python",
      "pygments_lexer": "ipython3",
      "version": "3.9.4"
    }
  },
  "nbformat": 4,
  "nbformat_minor": 0
}